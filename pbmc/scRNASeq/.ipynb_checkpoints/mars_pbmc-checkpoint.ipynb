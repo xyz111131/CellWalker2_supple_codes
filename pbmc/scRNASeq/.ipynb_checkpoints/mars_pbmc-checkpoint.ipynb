{
 "cells": [
  {
   "cell_type": "code",
   "execution_count": 1,
   "metadata": {},
   "outputs": [
    {
     "name": "stderr",
     "output_type": "stream",
     "text": [
      "/pollard/home/zhhu/miniconda3/envs/mars2/lib/python3.7/site-packages/scanpy/api/__init__.py:6: FutureWarning: \n",
      "\n",
      "In a future version of Scanpy, `scanpy.api` will be removed.\n",
      "Simply use `import scanpy as sc` and `import scanpy.external as sce` instead.\n",
      "\n",
      "  FutureWarning\n"
     ]
    }
   ],
   "source": [
    "import torch\n",
    "import sys\n",
    "import numpy as np\n",
    "import pandas as pd\n",
    "import scanpy.api as sc\n",
    "from anndata import AnnData\n",
    "#import h5py\n",
    "#import anndata as ad\n",
    "\n",
    "%matplotlib inline\n",
    "from matplotlib import pyplot as plt\n",
    "import matplotlib as mpl\n",
    "\n",
    "sys.path.append(\"../\")\n",
    "from args_parser import get_parser\n",
    "from model.mars import MARS\n",
    "from model.experiment_dataset import ExperimentDataset\n",
    "from data.benchmarks import BenchmarkData\n",
    "import warnings\n",
    "warnings.filterwarnings('ignore')"
   ]
  },
  {
   "cell_type": "markdown",
   "metadata": {},
   "source": [
    "# Setting parameters"
   ]
  },
  {
   "cell_type": "markdown",
   "metadata": {},
   "source": [
    "Loading default parameters"
   ]
  },
  {
   "cell_type": "code",
   "execution_count": 2,
   "metadata": {},
   "outputs": [],
   "source": [
    "params, unknown = get_parser().parse_known_args()"
   ]
  },
  {
   "cell_type": "code",
   "execution_count": 3,
   "metadata": {},
   "outputs": [
    {
     "data": {
      "text/plain": [
       "Namespace(cuda=False, epochs=30, epochs_pretrain=25, learning_rate=0.001, lr_scheduler_gamma=0.5, lr_scheduler_step=20, manual_seed=3, model_file='trained_models/source.pt', pretrain=True, pretrain_batch=None)"
      ]
     },
     "execution_count": 3,
     "metadata": {},
     "output_type": "execute_result"
    }
   ],
   "source": [
    "params"
   ]
  },
  {
   "cell_type": "markdown",
   "metadata": {},
   "source": [
    "Checking if CUDA device is available"
   ]
  },
  {
   "cell_type": "code",
   "execution_count": 4,
   "metadata": {},
   "outputs": [],
   "source": [
    "if torch.cuda.is_available() and not params.cuda:\n",
    "        print(\"WARNING: You have a CUDA device, so you should probably run with --cuda\")\n",
    "device = 'cuda:0' if torch.cuda.is_available() and params.cuda else 'cpu'\n",
    "params.device = device"
   ]
  },
  {
   "cell_type": "code",
   "execution_count": 5,
   "metadata": {},
   "outputs": [],
   "source": [
    "def init_seed(opt):\n",
    "    torch.cuda.cudnn_enabled = False\n",
    "    np.random.seed(opt.manual_seed)\n",
    "    torch.manual_seed(opt.manual_seed)\n",
    "    torch.cuda.manual_seed(opt.manual_seed)\n",
    "init_seed(params)"
   ]
  },
  {
   "cell_type": "markdown",
   "metadata": {},
   "source": [
    "# Prepare integrated and scaled data (only highly variable genes)"
   ]
  },
  {
   "cell_type": "code",
   "execution_count": 8,
   "metadata": {},
   "outputs": [],
   "source": [
    "workdir = '/pollard/data/projects/zhhu/cellwalk/blood_cellTyist'\n",
    "import os"
   ]
  },
  {
   "cell_type": "code",
   "execution_count": 9,
   "metadata": {},
   "outputs": [],
   "source": [
    "dat = pd.read_csv(os.path.join(workdir, \"blood_integrated_scaled.csv\"), index_col = 0) #3000 × 42484"
   ]
  },
  {
   "cell_type": "code",
   "execution_count": 10,
   "metadata": {},
   "outputs": [],
   "source": [
    "meta = pd.read_csv(os.path.join(workdir, 'merge_Ren_Yoshida_meta.csv'), index_col=0)"
   ]
  },
  {
   "cell_type": "code",
   "execution_count": 18,
   "metadata": {},
   "outputs": [],
   "source": [
    "meta = meta.loc[dat.columns,]"
   ]
  },
  {
   "cell_type": "code",
   "execution_count": 21,
   "metadata": {},
   "outputs": [
    {
     "data": {
      "text/plain": [
       "True"
      ]
     },
     "execution_count": 21,
     "metadata": {},
     "output_type": "execute_result"
    }
   ],
   "source": [
    "all(meta.index == dat.columns)"
   ]
  },
  {
   "cell_type": "code",
   "execution_count": 22,
   "metadata": {},
   "outputs": [
    {
     "name": "stdout",
     "output_type": "stream",
     "text": [
      "Index(['TAAGCGTGTAAGCACG-53', 'CGCGTTTCACAAGCCC-32', 'CAACCTCGTACGACCC-61',\n",
      "       'TGCACCTCATCCGTGG-53', 'AACTGGTGTGTGAATA-132', 'AGAGTGGAGGGCTTCC-52',\n",
      "       'GAGGTGACAACTGCGC-117', 'CTAGCCTTCTTGTTTG-117', 'GAATAAGCACTGCCAG-34',\n",
      "       'CGGACACAGCCTTGAT-253'],\n",
      "      dtype='object')\n"
     ]
    }
   ],
   "source": [
    "adata = AnnData(dat.values.transpose())\n",
    "adata\n",
    "\n",
    "adata.obs_names = dat.columns\n",
    "adata.var_names = dat.index\n",
    "print(adata.obs_names[:10])"
   ]
  },
  {
   "cell_type": "code",
   "execution_count": 23,
   "metadata": {},
   "outputs": [
    {
     "data": {
      "text/plain": [
       "AnnData object with n_obs × n_vars = 42484 × 3000 \n",
       "    obs: 'study', 'ground_truth'"
      ]
     },
     "execution_count": 23,
     "metadata": {},
     "output_type": "execute_result"
    }
   ],
   "source": [
    "adata.obs['study'] =  meta.Dataset\n",
    "adata.obs['ground_truth'] = meta.Original_annotation\n",
    "adata"
   ]
  },
  {
   "cell_type": "code",
   "execution_count": 25,
   "metadata": {},
   "outputs": [
    {
     "name": "stderr",
     "output_type": "stream",
     "text": [
      "... storing 'study' as categorical\n",
      "... storing 'ground_truth' as categorical\n"
     ]
    }
   ],
   "source": [
    "adata.write(os.path.join(workdir,'blood_integrated_scaled.h5ad'))"
   ]
  },
  {
   "cell_type": "markdown",
   "metadata": {},
   "source": [
    "# Loading dataset"
   ]
  },
  {
   "cell_type": "code",
   "execution_count": 26,
   "metadata": {},
   "outputs": [
    {
     "data": {
      "text/plain": [
       "AnnData object with n_obs × n_vars = 42484 × 3000 \n",
       "    obs: 'study', 'ground_truth'"
      ]
     },
     "execution_count": 26,
     "metadata": {},
     "output_type": "execute_result"
    }
   ],
   "source": [
    "adata = sc.read_h5ad(os.path.join(workdir,'blood_integrated_scaled.h5ad'))\n",
    "adata"
   ]
  },
  {
   "cell_type": "code",
   "execution_count": null,
   "metadata": {},
   "outputs": [],
   "source": [
    "#sc.pp.normalize_per_cell(adata, counts_per_cell_after=1e4)\n",
    "#sc.pp.scale(adata, max_value=10, zero_center=True)"
   ]
  },
  {
   "cell_type": "code",
   "execution_count": 27,
   "metadata": {},
   "outputs": [
    {
     "ename": "IndexError",
     "evalue": "Key \"experiment\" is not valid observation/variable name/index.",
     "output_type": "error",
     "traceback": [
      "\u001b[0;31m---------------------------------------------------------------------------\u001b[0m",
      "\u001b[0;31mIndexError\u001b[0m                                Traceback (most recent call last)",
      "\u001b[0;32m<ipython-input-27-40bab3def074>\u001b[0m in \u001b[0;36m<module>\u001b[0;34m\u001b[0m\n\u001b[1;32m      2\u001b[0m \u001b[0msc\u001b[0m\u001b[0;34m.\u001b[0m\u001b[0mpp\u001b[0m\u001b[0;34m.\u001b[0m\u001b[0mpca\u001b[0m\u001b[0;34m(\u001b[0m\u001b[0madata\u001b[0m\u001b[0;34m,\u001b[0m \u001b[0mn_comps\u001b[0m\u001b[0;34m=\u001b[0m\u001b[0;36m50\u001b[0m\u001b[0;34m)\u001b[0m\u001b[0;34m\u001b[0m\u001b[0m\n\u001b[1;32m      3\u001b[0m \u001b[0msc\u001b[0m\u001b[0;34m.\u001b[0m\u001b[0mtl\u001b[0m\u001b[0;34m.\u001b[0m\u001b[0mtsne\u001b[0m\u001b[0;34m(\u001b[0m\u001b[0madata\u001b[0m\u001b[0;34m,\u001b[0m \u001b[0mn_jobs\u001b[0m \u001b[0;34m=\u001b[0m \u001b[0;36m5\u001b[0m \u001b[0;34m)\u001b[0m\u001b[0;34m\u001b[0m\u001b[0m\n\u001b[0;32m----> 4\u001b[0;31m \u001b[0msc\u001b[0m\u001b[0;34m.\u001b[0m\u001b[0mpl\u001b[0m\u001b[0;34m.\u001b[0m\u001b[0mtsne\u001b[0m\u001b[0;34m(\u001b[0m\u001b[0madata\u001b[0m\u001b[0;34m,\u001b[0m \u001b[0mcolor\u001b[0m\u001b[0;34m=\u001b[0m\u001b[0;34m[\u001b[0m\u001b[0;34m'experiment'\u001b[0m\u001b[0;34m,\u001b[0m\u001b[0;34m'ground_truth'\u001b[0m\u001b[0;34m]\u001b[0m\u001b[0;34m,\u001b[0m\u001b[0msize\u001b[0m\u001b[0;34m=\u001b[0m\u001b[0;36m50\u001b[0m\u001b[0;34m)\u001b[0m\u001b[0;34m\u001b[0m\u001b[0m\n\u001b[0m",
      "\u001b[0;32m~/miniconda3/envs/mars2/lib/python3.7/site-packages/scanpy/plotting/_tools/scatterplots.py\u001b[0m in \u001b[0;36mtsne\u001b[0;34m(adata, **kwargs)\u001b[0m\n\u001b[1;32m    317\u001b[0m     \u001b[0mIf\u001b[0m\u001b[0;31m \u001b[0m\u001b[0;31m`\u001b[0m\u001b[0mshow\u001b[0m\u001b[0;34m==\u001b[0m\u001b[0;32mFalse\u001b[0m\u001b[0;31m`\u001b[0m \u001b[0ma\u001b[0m \u001b[0;34m:\u001b[0m\u001b[0;32mclass\u001b[0m\u001b[0;34m:\u001b[0m\u001b[0;31m`\u001b[0m\u001b[0;34m~\u001b[0m\u001b[0mmatplotlib\u001b[0m\u001b[0;34m.\u001b[0m\u001b[0maxes\u001b[0m\u001b[0;34m.\u001b[0m\u001b[0mAxes\u001b[0m\u001b[0;31m`\u001b[0m \u001b[0;32mor\u001b[0m \u001b[0ma\u001b[0m \u001b[0mlist\u001b[0m \u001b[0mof\u001b[0m \u001b[0mit\u001b[0m\u001b[0;34m.\u001b[0m\u001b[0;34m\u001b[0m\u001b[0m\n\u001b[1;32m    318\u001b[0m     \"\"\"\n\u001b[0;32m--> 319\u001b[0;31m     \u001b[0;32mreturn\u001b[0m \u001b[0mplot_scatter\u001b[0m\u001b[0;34m(\u001b[0m\u001b[0madata\u001b[0m\u001b[0;34m,\u001b[0m \u001b[0;34m'tsne'\u001b[0m\u001b[0;34m,\u001b[0m \u001b[0;34m**\u001b[0m\u001b[0mkwargs\u001b[0m\u001b[0;34m)\u001b[0m\u001b[0;34m\u001b[0m\u001b[0m\n\u001b[0m\u001b[1;32m    320\u001b[0m \u001b[0;34m\u001b[0m\u001b[0m\n\u001b[1;32m    321\u001b[0m \u001b[0;34m\u001b[0m\u001b[0m\n",
      "\u001b[0;32m~/miniconda3/envs/mars2/lib/python3.7/site-packages/scanpy/plotting/_tools/scatterplots.py\u001b[0m in \u001b[0;36mplot_scatter\u001b[0;34m(adata, basis, color, gene_symbols, use_raw, sort_order, edges, edges_width, edges_color, arrows, arrows_kwds, groups, components, layer, projection, color_map, palette, size, frameon, legend_fontsize, legend_fontweight, legend_loc, legend_fontoutline, ncols, hspace, wspace, title, show, save, ax, return_fig, **kwargs)\u001b[0m\n\u001b[1;32m    154\u001b[0m             \u001b[0madata\u001b[0m\u001b[0;34m,\u001b[0m \u001b[0mvalue_to_plot\u001b[0m\u001b[0;34m,\u001b[0m \u001b[0mlayer\u001b[0m\u001b[0;34m=\u001b[0m\u001b[0mlayer\u001b[0m\u001b[0;34m,\u001b[0m\u001b[0;34m\u001b[0m\u001b[0m\n\u001b[1;32m    155\u001b[0m             \u001b[0mgroups\u001b[0m\u001b[0;34m=\u001b[0m\u001b[0mgroups\u001b[0m\u001b[0;34m,\u001b[0m \u001b[0mpalette\u001b[0m\u001b[0;34m=\u001b[0m\u001b[0mpalette\u001b[0m\u001b[0;34m,\u001b[0m\u001b[0;34m\u001b[0m\u001b[0m\n\u001b[0;32m--> 156\u001b[0;31m             \u001b[0muse_raw\u001b[0m\u001b[0;34m=\u001b[0m\u001b[0muse_raw\u001b[0m\u001b[0;34m,\u001b[0m \u001b[0mgene_symbols\u001b[0m\u001b[0;34m=\u001b[0m\u001b[0mgene_symbols\u001b[0m\u001b[0;34m,\u001b[0m\u001b[0;34m\u001b[0m\u001b[0m\n\u001b[0m\u001b[1;32m    157\u001b[0m         )\n\u001b[1;32m    158\u001b[0m \u001b[0;34m\u001b[0m\u001b[0m\n",
      "\u001b[0;32m~/miniconda3/envs/mars2/lib/python3.7/site-packages/scanpy/plotting/_tools/scatterplots.py\u001b[0m in \u001b[0;36m_get_color_values\u001b[0;34m(adata, value_to_plot, groups, palette, use_raw, gene_symbols, layer)\u001b[0m\n\u001b[1;32m    696\u001b[0m         \u001b[0mvalues\u001b[0m \u001b[0;34m=\u001b[0m \u001b[0madata\u001b[0m\u001b[0;34m.\u001b[0m\u001b[0mraw\u001b[0m\u001b[0;34m.\u001b[0m\u001b[0mobs_vector\u001b[0m\u001b[0;34m(\u001b[0m\u001b[0mvalue_to_plot\u001b[0m\u001b[0;34m)\u001b[0m\u001b[0;34m\u001b[0m\u001b[0m\n\u001b[1;32m    697\u001b[0m     \u001b[0;32melse\u001b[0m\u001b[0;34m:\u001b[0m\u001b[0;34m\u001b[0m\u001b[0m\n\u001b[0;32m--> 698\u001b[0;31m         \u001b[0mvalues\u001b[0m \u001b[0;34m=\u001b[0m \u001b[0madata\u001b[0m\u001b[0;34m.\u001b[0m\u001b[0mobs_vector\u001b[0m\u001b[0;34m(\u001b[0m\u001b[0mvalue_to_plot\u001b[0m\u001b[0;34m,\u001b[0m \u001b[0mlayer\u001b[0m\u001b[0;34m=\u001b[0m\u001b[0mlayer\u001b[0m\u001b[0;34m)\u001b[0m\u001b[0;34m\u001b[0m\u001b[0m\n\u001b[0m\u001b[1;32m    699\u001b[0m \u001b[0;34m\u001b[0m\u001b[0m\n\u001b[1;32m    700\u001b[0m     \u001b[0;31m###\u001b[0m\u001b[0;34m\u001b[0m\u001b[0;34m\u001b[0m\u001b[0m\n",
      "\u001b[0;32m~/miniconda3/envs/mars2/lib/python3.7/site-packages/anndata/core/anndata.py\u001b[0m in \u001b[0;36mobs_vector\u001b[0;34m(self, k, layer)\u001b[0m\n\u001b[1;32m   1480\u001b[0m             \u001b[0;32mreturn\u001b[0m \u001b[0mself\u001b[0m\u001b[0;34m.\u001b[0m\u001b[0mobs\u001b[0m\u001b[0;34m[\u001b[0m\u001b[0mk\u001b[0m\u001b[0;34m]\u001b[0m\u001b[0;34m.\u001b[0m\u001b[0mvalues\u001b[0m\u001b[0;34m\u001b[0m\u001b[0m\n\u001b[1;32m   1481\u001b[0m         \u001b[0;32melse\u001b[0m\u001b[0;34m:\u001b[0m\u001b[0;34m\u001b[0m\u001b[0m\n\u001b[0;32m-> 1482\u001b[0;31m             \u001b[0midx\u001b[0m \u001b[0;34m=\u001b[0m \u001b[0mself\u001b[0m\u001b[0;34m.\u001b[0m\u001b[0m_normalize_indices\u001b[0m\u001b[0;34m(\u001b[0m\u001b[0;34m(\u001b[0m\u001b[0mslice\u001b[0m\u001b[0;34m(\u001b[0m\u001b[0;32mNone\u001b[0m\u001b[0;34m)\u001b[0m\u001b[0;34m,\u001b[0m \u001b[0mk\u001b[0m\u001b[0;34m)\u001b[0m\u001b[0;34m)\u001b[0m\u001b[0;34m\u001b[0m\u001b[0m\n\u001b[0m\u001b[1;32m   1483\u001b[0m             \u001b[0ma\u001b[0m \u001b[0;34m=\u001b[0m \u001b[0mself\u001b[0m\u001b[0;34m.\u001b[0m\u001b[0m_get_X\u001b[0m\u001b[0;34m(\u001b[0m\u001b[0mlayer\u001b[0m\u001b[0;34m=\u001b[0m\u001b[0mlayer\u001b[0m\u001b[0;34m)\u001b[0m\u001b[0;34m[\u001b[0m\u001b[0midx\u001b[0m\u001b[0;34m]\u001b[0m\u001b[0;34m\u001b[0m\u001b[0m\n\u001b[1;32m   1484\u001b[0m         \u001b[0;32mif\u001b[0m \u001b[0missparse\u001b[0m\u001b[0;34m(\u001b[0m\u001b[0ma\u001b[0m\u001b[0;34m)\u001b[0m\u001b[0;34m:\u001b[0m\u001b[0;34m\u001b[0m\u001b[0m\n",
      "\u001b[0;32m~/miniconda3/envs/mars2/lib/python3.7/site-packages/anndata/core/anndata.py\u001b[0m in \u001b[0;36m_normalize_indices\u001b[0;34m(self, index)\u001b[0m\n\u001b[1;32m   1208\u001b[0m         \u001b[0mobs\u001b[0m\u001b[0;34m,\u001b[0m \u001b[0mvar\u001b[0m \u001b[0;34m=\u001b[0m \u001b[0munpack_index\u001b[0m\u001b[0;34m(\u001b[0m\u001b[0mindex\u001b[0m\u001b[0;34m)\u001b[0m\u001b[0;34m\u001b[0m\u001b[0m\n\u001b[1;32m   1209\u001b[0m         \u001b[0mobs\u001b[0m \u001b[0;34m=\u001b[0m \u001b[0m_normalize_index\u001b[0m\u001b[0;34m(\u001b[0m\u001b[0mobs\u001b[0m\u001b[0;34m,\u001b[0m \u001b[0mself\u001b[0m\u001b[0;34m.\u001b[0m\u001b[0mobs_names\u001b[0m\u001b[0;34m)\u001b[0m\u001b[0;34m\u001b[0m\u001b[0m\n\u001b[0;32m-> 1210\u001b[0;31m         \u001b[0mvar\u001b[0m \u001b[0;34m=\u001b[0m \u001b[0m_normalize_index\u001b[0m\u001b[0;34m(\u001b[0m\u001b[0mvar\u001b[0m\u001b[0;34m,\u001b[0m \u001b[0mself\u001b[0m\u001b[0;34m.\u001b[0m\u001b[0mvar_names\u001b[0m\u001b[0;34m)\u001b[0m\u001b[0;34m\u001b[0m\u001b[0m\n\u001b[0m\u001b[1;32m   1211\u001b[0m         \u001b[0;32mreturn\u001b[0m \u001b[0mobs\u001b[0m\u001b[0;34m,\u001b[0m \u001b[0mvar\u001b[0m\u001b[0;34m\u001b[0m\u001b[0m\n\u001b[1;32m   1212\u001b[0m \u001b[0;34m\u001b[0m\u001b[0m\n",
      "\u001b[0;32m~/miniconda3/envs/mars2/lib/python3.7/site-packages/anndata/core/anndata.py\u001b[0m in \u001b[0;36m_normalize_index\u001b[0;34m(index, names)\u001b[0m\n\u001b[1;32m    153\u001b[0m         \u001b[0;32mreturn\u001b[0m \u001b[0mslice\u001b[0m\u001b[0;34m(\u001b[0m\u001b[0mstart\u001b[0m\u001b[0;34m,\u001b[0m \u001b[0mstop\u001b[0m\u001b[0;34m,\u001b[0m \u001b[0mstep\u001b[0m\u001b[0;34m)\u001b[0m\u001b[0;34m\u001b[0m\u001b[0m\n\u001b[1;32m    154\u001b[0m     \u001b[0;32melif\u001b[0m \u001b[0misinstance\u001b[0m\u001b[0;34m(\u001b[0m\u001b[0mindex\u001b[0m\u001b[0;34m,\u001b[0m \u001b[0;34m(\u001b[0m\u001b[0mnp\u001b[0m\u001b[0;34m.\u001b[0m\u001b[0minteger\u001b[0m\u001b[0;34m,\u001b[0m \u001b[0mint\u001b[0m\u001b[0;34m,\u001b[0m \u001b[0mstr\u001b[0m\u001b[0;34m)\u001b[0m\u001b[0;34m)\u001b[0m\u001b[0;34m:\u001b[0m\u001b[0;34m\u001b[0m\u001b[0m\n\u001b[0;32m--> 155\u001b[0;31m         \u001b[0;32mreturn\u001b[0m \u001b[0mname_idx\u001b[0m\u001b[0;34m(\u001b[0m\u001b[0mindex\u001b[0m\u001b[0;34m)\u001b[0m\u001b[0;34m\u001b[0m\u001b[0m\n\u001b[0m\u001b[1;32m    156\u001b[0m     \u001b[0;32melif\u001b[0m \u001b[0misinstance\u001b[0m\u001b[0;34m(\u001b[0m\u001b[0mindex\u001b[0m\u001b[0;34m,\u001b[0m \u001b[0;34m(\u001b[0m\u001b[0mSequence\u001b[0m\u001b[0;34m,\u001b[0m \u001b[0mnp\u001b[0m\u001b[0;34m.\u001b[0m\u001b[0mndarray\u001b[0m\u001b[0;34m,\u001b[0m \u001b[0mpd\u001b[0m\u001b[0;34m.\u001b[0m\u001b[0mIndex\u001b[0m\u001b[0;34m)\u001b[0m\u001b[0;34m)\u001b[0m\u001b[0;34m:\u001b[0m\u001b[0;34m\u001b[0m\u001b[0m\n\u001b[1;32m    157\u001b[0m         \u001b[0;31m# here, we replaced the implementation based on name_idx with this\u001b[0m\u001b[0;34m\u001b[0m\u001b[0;34m\u001b[0m\u001b[0m\n",
      "\u001b[0;32m~/miniconda3/envs/mars2/lib/python3.7/site-packages/anndata/core/anndata.py\u001b[0m in \u001b[0;36mname_idx\u001b[0;34m(i)\u001b[0m\n\u001b[1;32m    140\u001b[0m                 raise IndexError(\n\u001b[1;32m    141\u001b[0m                     \u001b[0;34m'Key \"{}\" is not valid observation/variable name/index.'\u001b[0m\u001b[0;34m\u001b[0m\u001b[0m\n\u001b[0;32m--> 142\u001b[0;31m                     .format(i))\n\u001b[0m\u001b[1;32m    143\u001b[0m             \u001b[0mi\u001b[0m \u001b[0;34m=\u001b[0m \u001b[0mi_found\u001b[0m\u001b[0;34m[\u001b[0m\u001b[0;36m0\u001b[0m\u001b[0;34m]\u001b[0m\u001b[0;34m\u001b[0m\u001b[0m\n\u001b[1;32m    144\u001b[0m         \u001b[0;32mreturn\u001b[0m \u001b[0mi\u001b[0m\u001b[0;34m\u001b[0m\u001b[0m\n",
      "\u001b[0;31mIndexError\u001b[0m: Key \"experiment\" is not valid observation/variable name/index."
     ]
    },
    {
     "data": {
      "text/plain": [
       "<Figure size 989.28x288 with 0 Axes>"
      ]
     },
     "metadata": {},
     "output_type": "display_data"
    }
   ],
   "source": [
    "sc.pp.neighbors(adata, n_neighbors=30, use_rep='X')\n",
    "sc.pp.pca(adata, n_comps=50)\n",
    "sc.tl.tsne(adata, n_jobs = 5 )\n"
   ]
  },
  {
   "cell_type": "code",
   "execution_count": 30,
   "metadata": {},
   "outputs": [
    {
     "data": {
      "image/png": "[encoded data removed]",
      "text/plain": [
       "<Figure size 432x288 with 1 Axes>"
      ]
     },
     "metadata": {},
     "output_type": "display_data"
    }
   ],
   "source": [
    "sc.pl.tsne(adata, color=['study'],size=20)"
   ]
  },
  {
   "cell_type": "code",
   "execution_count": 31,
   "metadata": {},
   "outputs": [],
   "source": [
    "adata.obs['ct_low'] = adata.obs.ground_truth.astype('str').copy()"
   ]
  },
  {
   "cell_type": "code",
   "execution_count": 32,
   "metadata": {},
   "outputs": [],
   "source": [
    "idx = adata.obs.ground_truth.str.contains('NK').values\n",
    "adata.obs['ct_low'][idx] = 'Nature killer'\n",
    "\n",
    "idx = adata.obs.ground_truth.str.contains('^T|MAIT|NKT').values\n",
    "adata.obs['ct_low'][idx] = 'T cells'\n",
    "\n",
    "idx = adata.obs.ground_truth.str.contains('^B|Plasma').values\n",
    "adata.obs['ct_low'][idx] = 'B cells'\n",
    "\n",
    "idx = adata.obs.ground_truth.str.contains('^Mono|Macro').values\n",
    "adata.obs['ct_low'][idx] = 'Monocytes'\n",
    "\n",
    "idx = ((adata.obs.ground_truth == 'Mega') | \n",
    "       (adata.obs.ground_truth == 'Platelets'))\n",
    "adata.obs['ct_low'][idx] = 'Megakaryocyte'\n",
    "\n",
    "idx = adata.obs.ground_truth.str.contains('DC').values\n",
    "adata.obs['ct_low'][idx] = 'Dendritic cells'"
   ]
  },
  {
   "cell_type": "code",
   "execution_count": 33,
   "metadata": {},
   "outputs": [
    {
     "data": {
      "text/plain": [
       "T cells            27225\n",
       "Monocytes           6650\n",
       "B cells             4688\n",
       "Nature killer       3118\n",
       "Dendritic cells      496\n",
       "Megakaryocyte        247\n",
       "Cycling               32\n",
       "HPC                   11\n",
       "ILC                   10\n",
       "Neu_c3-CST7            7\n",
       "Name: ct_low, dtype: int64"
      ]
     },
     "execution_count": 33,
     "metadata": {},
     "output_type": "execute_result"
    }
   ],
   "source": [
    "adata.obs['ct_low'].value_counts()"
   ]
  },
  {
   "cell_type": "code",
   "execution_count": 38,
   "metadata": {},
   "outputs": [
    {
     "data": {
      "image/png": "[encoded data removed]",
      "text/plain": [
       "<Figure size 432x288 with 1 Axes>"
      ]
     },
     "metadata": {},
     "output_type": "display_data"
    }
   ],
   "source": [
    "sc.pl.tsne(adata, color=['ct_low'],size=10)"
   ]
  },
  {
   "cell_type": "code",
   "execution_count": 39,
   "metadata": {},
   "outputs": [
    {
     "data": {
      "text/plain": [
       "['Yoshida et al. 2021', 'Ren et al. 2021']"
      ]
     },
     "execution_count": 39,
     "metadata": {},
     "output_type": "execute_result"
    }
   ],
   "source": [
    "datasets = list(set(adata.obs['study']))\n",
    "datasets"
   ]
  },
  {
   "cell_type": "markdown",
   "metadata": {},
   "source": [
    "# Train and evaluate MARS"
   ]
  },
  {
   "cell_type": "markdown",
   "metadata": {},
   "source": [
    "### Use science dataset as annotated, and geschwind as unannotated "
   ]
  },
  {
   "cell_type": "markdown",
   "metadata": {},
   "source": [
    "Prepare annotated, unannotated and pretrain datasets"
   ]
  },
  {
   "cell_type": "code",
   "execution_count": 40,
   "metadata": {},
   "outputs": [],
   "source": [
    "science = adata[adata.obs['study'] == 'Ren et al. 2021',:]\n",
    "geschwind = adata[adata.obs['study'] == 'Yoshida et al. 2021',:]"
   ]
  },
  {
   "cell_type": "code",
   "execution_count": 41,
   "metadata": {},
   "outputs": [],
   "source": [
    " def celltype_to_numeric(adata, annotation_type):\n",
    "        \"\"\"Adds ground truth clusters data.\"\"\"\n",
    "        annotations = list(adata.obs[annotation_type])\n",
    "        annotations_set = sorted(set(annotations))\n",
    "        \n",
    "        mapping = {a:idx for idx,a in enumerate(annotations_set)}\n",
    "        \n",
    "        truth_labels = [mapping[a] for a in annotations]\n",
    "        adata.obs['truth_labels'] = pd.Categorical(values=truth_labels)\n",
    "         \n",
    "        return mapping"
   ]
  },
  {
   "cell_type": "code",
   "execution_count": null,
   "metadata": {},
   "outputs": [],
   "source": [
    "# from sklearn.preprocessing import LabelEncoder\n",
    "# le = LabelEncoder()\n",
    "# label = le.fit_transform(kolod.obs['ground_truth'])\n",
    "# label2 = le.fit_transform(pollen.obs['ground_truth'])\n",
    "# "
   ]
  },
  {
   "cell_type": "code",
   "execution_count": 42,
   "metadata": {},
   "outputs": [
    {
     "name": "stderr",
     "output_type": "stream",
     "text": [
      "Trying to set attribute `.obs` of view, making a copy.\n",
      "Trying to set attribute `.obs` of view, making a copy.\n"
     ]
    }
   ],
   "source": [
    "celltype_id_map_science = celltype_to_numeric(science, 'ground_truth')\n",
    "IDs_to_celltypes_science = {v:k for k,v in celltype_id_map_science.items()}\n",
    "celltype_id_map_geschwind = celltype_to_numeric(geschwind, 'ground_truth')\n",
    "IDs_to_celltypes_geschwind = {v:k for k,v in celltype_id_map_geschwind.items()}"
   ]
  },
  {
   "cell_type": "code",
   "execution_count": 43,
   "metadata": {},
   "outputs": [
    {
     "name": "stdout",
     "output_type": "stream",
     "text": [
      "== Dataset: Found 33123 items \n",
      "== Dataset: Found 46 classes\n"
     ]
    }
   ],
   "source": [
    "y_science = np.array(science.obs['truth_labels'], dtype=np.int64)\n",
    "annotated = ExperimentDataset(science.X, science.obs_names, science.var_names, 'science', y_science)"
   ]
  },
  {
   "cell_type": "code",
   "execution_count": 44,
   "metadata": {},
   "outputs": [
    {
     "name": "stdout",
     "output_type": "stream",
     "text": [
      "== Dataset: Found 9361 items \n",
      "== Dataset: Found 34 classes\n"
     ]
    }
   ],
   "source": [
    "y_geschwind = np.array(geschwind.obs['truth_labels'], dtype=np.int64) # ground truth annotations will be only used for evaluation\n",
    "unannnotated = ExperimentDataset(geschwind.X, geschwind.obs_names, geschwind.var_names, 'geschwind', y_geschwind)"
   ]
  },
  {
   "cell_type": "code",
   "execution_count": 45,
   "metadata": {},
   "outputs": [],
   "source": [
    "pretrain_data = ExperimentDataset(geschwind.X, geschwind.obs_names, geschwind.var_names, 'geschwind')"
   ]
  },
  {
   "cell_type": "code",
   "execution_count": 46,
   "metadata": {},
   "outputs": [],
   "source": [
    "n_clusters = len(np.unique(unannnotated.y))"
   ]
  },
  {
   "cell_type": "code",
   "execution_count": 48,
   "metadata": {},
   "outputs": [],
   "source": [
    "params.epochs = 100"
   ]
  },
  {
   "cell_type": "markdown",
   "metadata": {},
   "source": [
    "Initialize MARS"
   ]
  },
  {
   "cell_type": "code",
   "execution_count": 49,
   "metadata": {},
   "outputs": [],
   "source": [
    "mars = MARS(n_clusters, params, [annotated], unannnotated, pretrain_data, hid_dim_1=1000, hid_dim_2=100)\n",
    "#mars = MARS(n_clusters, params, [annotated], unannnotated, pretrain_data, hid_dim_1=1000, hid_dim_2=200)"
   ]
  },
  {
   "cell_type": "markdown",
   "metadata": {},
   "source": [
    "Run MARS in evaluation mode. Ground truth annotations will be used to evaluate MARS performance and scores will be returned"
   ]
  },
  {
   "cell_type": "code",
   "execution_count": 50,
   "metadata": {
    "scrolled": true
   },
   "outputs": [
    {
     "name": "stdout",
     "output_type": "stream",
     "text": [
      "Pretraining..\n",
      "\n",
      "=== Epoch: 100 ===\n",
      "Train acc: 0.5026114583015442\n"
     ]
    }
   ],
   "source": [
    "# return both annotated and unannotated datasets with save_all_embeddings\n",
    "adata, landmarks, scores = mars.train(evaluation_mode=True, save_all_embeddings=True) # evaluation mode"
   ]
  },
  {
   "cell_type": "code",
   "execution_count": 52,
   "metadata": {},
   "outputs": [
    {
     "data": {
      "text/plain": [
       "{'precision': 0.41197824947999384,\n",
       " 'accuracy': 0.5088131609870741,\n",
       " 'adj_rand': 0.431367532276024,\n",
       " 'nmi': 0.6649311009957609,\n",
       " 'adj_mi': 0.6212978681525614,\n",
       " 'recall': 0.37862534010483057,\n",
       " 'f1_score': 0.348573873570567}"
      ]
     },
     "execution_count": 52,
     "metadata": {},
     "output_type": "execute_result"
    }
   ],
   "source": [
    "scores\n"
   ]
  },
  {
   "cell_type": "markdown",
   "metadata": {},
   "source": [
    "Check MARS performance"
   ]
  },
  {
   "cell_type": "code",
   "execution_count": 53,
   "metadata": {},
   "outputs": [],
   "source": [
    "def hungarian_match(y_true, y_pred):\n",
    "    \"\"\"Matches predicted labels to original using hungarian algorithm.\"\"\"\n",
    "    \n",
    "    #y_true = adjust_range(y_true)\n",
    "    #y_pred = adjust_range(y_pred)\n",
    "    \n",
    "    D = max(y_pred.max(), y_true.max()) + 1\n",
    "    w = np.zeros((D, D), dtype=np.int64)\n",
    "    # Confusion matrix.\n",
    "    for i in range(y_pred.size):\n",
    "        w[y_pred[i], y_true[i]] += 1\n",
    "    ind = linear_sum_assignment(-w)\n",
    "    ind = np.asarray(ind)\n",
    "    ind = np.transpose(ind)\n",
    "    d = {i:j for i, j in ind}\n",
    "    y_pred = np.array([d[v] for v in y_pred])\n",
    "    \n",
    "    return y_true, y_pred, d"
   ]
  },
  {
   "cell_type": "code",
   "execution_count": 54,
   "metadata": {},
   "outputs": [],
   "source": [
    "from scipy.optimize import linear_sum_assignment "
   ]
  },
  {
   "cell_type": "code",
   "execution_count": 61,
   "metadata": {},
   "outputs": [],
   "source": [
    "geschwind = adata[adata.obs['experiment'] == 'geschwind',:]\n",
    "y_true, y_pred, d = hungarian_match(geschwind.obs['truth_labels'], geschwind.obs['MARS_labels'])"
   ]
  },
  {
   "cell_type": "code",
   "execution_count": 62,
   "metadata": {},
   "outputs": [
    {
     "data": {
      "text/plain": [
       "View of AnnData object with n_obs × n_vars = 9361 × 3000 \n",
       "    obs: 'MARS_labels', 'experiment', 'truth_labels'\n",
       "    obsm: 'MARS_embedding'"
      ]
     },
     "execution_count": 62,
     "metadata": {},
     "output_type": "execute_result"
    }
   ],
   "source": [
    "geschwind"
   ]
  },
  {
   "cell_type": "code",
   "execution_count": 63,
   "metadata": {},
   "outputs": [
    {
     "data": {
      "text/plain": [
       "{0: 12,\n",
       " 1: 30,\n",
       " 2: 3,\n",
       " 3: 22,\n",
       " 4: 7,\n",
       " 5: 19,\n",
       " 6: 29,\n",
       " 7: 28,\n",
       " 8: 20,\n",
       " 9: 14,\n",
       " 10: 24,\n",
       " 11: 21,\n",
       " 12: 13,\n",
       " 13: 25,\n",
       " 14: 1,\n",
       " 15: 15,\n",
       " 16: 33,\n",
       " 17: 2,\n",
       " 18: 17,\n",
       " 19: 32,\n",
       " 20: 18,\n",
       " 21: 11,\n",
       " 22: 23,\n",
       " 23: 16,\n",
       " 24: 0,\n",
       " 25: 9,\n",
       " 26: 8,\n",
       " 27: 31,\n",
       " 28: 10,\n",
       " 29: 27,\n",
       " 30: 26,\n",
       " 31: 6,\n",
       " 32: 5,\n",
       " 33: 4}"
      ]
     },
     "execution_count": 63,
     "metadata": {},
     "output_type": "execute_result"
    }
   ],
   "source": [
    "d"
   ]
  },
  {
   "cell_type": "code",
   "execution_count": 64,
   "metadata": {},
   "outputs": [
    {
     "name": "stdout",
     "output_type": "stream",
     "text": [
      "\n",
      "Cluster label: 0\n",
      "Mono_c1-CD14-CCL3: 4.694140628284294e-18\n",
      "Mono_c2-CD14-HLA-DPB1: 1.1697971487099203e-17\n",
      "Mono_c3-CD14-VCAN: 3.95438892909274e-17\n",
      "Mono_c4-CD14-CD16: 5.955532018051235e-16\n",
      "Mono_c5-CD16: 0.9999999999999994\n",
      "\n",
      "Cluster label: 1\n",
      "Unassigned\n",
      "\n",
      "Cluster label: 2\n",
      "T_CD4_c09-GZMK-FOS_l: 1.8347327656533775e-29\n",
      "B_c04-SOX5-TNFRSF1B: 1.1261039828568913e-26\n",
      "B_c03-CD27-AIM2: 1.9365445337820707e-18\n",
      "B_c02-MS4A1-CD27: 3.3665295033385385e-17\n",
      "B_c01-TCL1A: 1.0\n",
      "\n",
      "Cluster label: 3\n",
      "T_CD4_c07-AHNAK: 0.006728794664878713\n",
      "T_CD4_c09-GZMK-FOS_l: 0.027184145061595458\n",
      "T_CD8_c02-GPR183: 0.2829797701873785\n",
      "T_CD4_c08-GZMK-FOS_h: 0.3238770059740689\n",
      "T_CD8_c01-LEF1: 0.32778543555615053\n",
      "\n",
      "Cluster label: 4\n",
      "T_CD8_c07-TYROBP: 1.6441751044546973e-149\n",
      "NK_c01-FCGR3A: 2.697950068147596e-81\n",
      "T_CD4_c10-IFNG: 6.022204321823427e-81\n",
      "T_CD8_c08-IL2RB: 4.2090788851159263e-79\n",
      "NK_c02-NCAM1: 1.0\n",
      "\n",
      "Cluster label: 5\n",
      "Unassigned\n",
      "\n",
      "Cluster label: 6\n",
      "T_CD4_c01-LEF1: 1.6268562325346005e-18\n",
      "T_CD4_c08-GZMK-FOS_h: 1.3922134464400638e-16\n",
      "T_CD4_c09-GZMK-FOS_l: 1.6933629865837608e-13\n",
      "T_CD8_c02-GPR183: 8.580920520110023e-11\n",
      "T_CD8_c01-LEF1: 0.9999999999140212\n",
      "\n",
      "Cluster label: 7\n",
      "T_CD8_c08-IL2RB: 1.140320556431265e-06\n",
      "T_CD8_c04-COTL1: 0.0022167762841523893\n",
      "T_CD8_c06-TNF: 0.012500181455971298\n",
      "T_CD8_c05-ZNF683: 0.0620469161417529\n",
      "T_CD8_c07-TYROBP: 0.9232336706018864\n",
      "\n",
      "Cluster label: 8\n",
      "Unassigned\n",
      "\n",
      "Cluster label: 9\n",
      "Unassigned\n",
      "\n",
      "Cluster label: 10\n",
      "T_CD4_c08-GZMK-FOS_h: 9.121027946166499e-07\n",
      "T_CD8_c02-GPR183: 3.782723254769181e-06\n",
      "T_CD4_c05-FOS: 0.0002604227147106821\n",
      "T_CD4_c01-LEF1: 0.0240820870163686\n",
      "T_CD8_c01-LEF1: 0.9756527941230992\n",
      "\n",
      "Cluster label: 11\n",
      "Unassigned\n",
      "\n",
      "Cluster label: 12\n",
      "Unassigned\n",
      "\n",
      "Cluster label: 13\n",
      "T_gdT_c14-TRDV2: 0.002672845739196932\n",
      "T_CD4_c11-GNLY: 0.024928652592608083\n",
      "T_CD8_c10-MKI67-GZMK: 0.04002548782788797\n",
      "T_CD8_c09-SLC4A10: 0.3778017265523282\n",
      "T_CD8_c03-GZMK: 0.5545294570273339\n",
      "\n",
      "Cluster label: 14\n",
      "T_CD8_c06-TNF: 1.480681460699243e-11\n",
      "B_c04-SOX5-TNFRSF1B: 0.0002237463290557161\n",
      "B_c03-CD27-AIM2: 0.03284677185241564\n",
      "B_c02-MS4A1-CD27: 0.05687374935070106\n",
      "B_c01-TCL1A: 0.9100557324089703\n",
      "\n",
      "Cluster label: 15\n",
      "T_CD8_c06-TNF: 5.276754227426025e-06\n",
      "NK_c02-NCAM1: 0.00031325345803286445\n",
      "T_CD8_c07-TYROBP: 0.01814002208447658\n",
      "T_CD8_c08-IL2RB: 0.4887537076613034\n",
      "NK_c01-FCGR3A: 0.4927877374063\n",
      "\n",
      "Cluster label: 16\n",
      "Unassigned\n",
      "\n",
      "Cluster label: 17\n",
      "T_CD8_c09-SLC4A10: 3.866312915481533e-19\n",
      "B_c04-SOX5-TNFRSF1B: 2.9848504691591555e-17\n",
      "B_c03-CD27-AIM2: 3.1702961791788863e-12\n",
      "B_c02-MS4A1-CD27: 1.844196117754774e-11\n",
      "B_c01-TCL1A: 0.9999999999783877\n",
      "\n",
      "Cluster label: 18\n",
      "T_CD4_c10-IFNG: 4.4128874084526364e-51\n",
      "T_CD8_c07-TYROBP: 1.8870569647925788e-32\n",
      "NK_c01-FCGR3A: 1.4834125745112103e-11\n",
      "T_CD8_c08-IL2RB: 2.1150237952852086e-11\n",
      "NK_c02-NCAM1: 0.9999999999640157\n",
      "\n",
      "Cluster label: 19\n",
      "Unassigned\n",
      "\n",
      "Cluster label: 20\n",
      "T_CD8_c06-TNF: 4.9049163432496045e-33\n",
      "T_CD8_c07-TYROBP: 6.775903553721275e-13\n",
      "NK_c02-NCAM1: 0.08054048335102669\n",
      "T_CD8_c08-IL2RB: 0.2751003258818657\n",
      "NK_c01-FCGR3A: 0.6443591907664299\n",
      "\n",
      "Cluster label: 21\n",
      "Unassigned\n",
      "\n",
      "Cluster label: 22\n",
      "T_CD4_c08-GZMK-FOS_h: 4.50645258926816e-07\n",
      "T_CD4_c05-FOS: 4.867194907669228e-06\n",
      "T_CD8_c02-GPR183: 6.04473566958747e-06\n",
      "T_CD4_c01-LEF1: 0.0006813121638516694\n",
      "T_CD8_c01-LEF1: 0.9993073053278752\n",
      "\n",
      "Cluster label: 23\n",
      "T_CD8_c07-TYROBP: 7.142699119538804e-83\n",
      "T_CD4_c10-IFNG: 1.6918576179506181e-59\n",
      "NK_c01-FCGR3A: 9.463504236640922e-43\n",
      "T_CD8_c08-IL2RB: 6.081866318430707e-41\n",
      "NK_c02-NCAM1: 1.0\n",
      "\n",
      "Cluster label: 24\n",
      "Unassigned\n",
      "\n",
      "Cluster label: 25\n",
      "Mono_c2-CD14-HLA-DPB1: 0.16725780658771028\n",
      "Mono_c4-CD14-CD16: 0.17311234674632017\n",
      "Mono_c1-CD14-CCL3: 0.188759357544916\n",
      "Mono_c3-CD14-VCAN: 0.22773359877866775\n",
      "Mono_c5-CD16: 0.24085407169134004\n",
      "\n",
      "Cluster label: 26\n",
      "T_CD4_c11-GNLY: 1.3048752115703834e-14\n",
      "T_CD8_c10-MKI67-GZMK: 2.592680566795582e-13\n",
      "T_CD4_c09-GZMK-FOS_l: 4.61413965530956e-12\n",
      "T_CD8_c03-GZMK: 0.0003173130674972168\n",
      "T_CD8_c09-SLC4A10: 0.9996826869276147\n",
      "\n",
      "Cluster label: 27\n",
      "T_CD8_c09-SLC4A10: 1.6739157007474306e-14\n",
      "T_CD8_c01-LEF1: 7.995920478399809e-14\n",
      "T_CD4_c09-GZMK-FOS_l: 0.31462988741667314\n",
      "T_CD4_c08-GZMK-FOS_h: 0.33020810373650294\n",
      "T_CD8_c02-GPR183: 0.3551620088467272\n",
      "\n",
      "Cluster label: 28\n",
      "Mono_c2-CD14-HLA-DPB1: 0.00025693094772945274\n",
      "Mono_c4-CD14-CD16: 0.0003442736730857818\n",
      "Mono_c1-CD14-CCL3: 0.0009699178722792638\n",
      "Mono_c3-CD14-VCAN: 0.002153263844230723\n",
      "Mono_c5-CD16: 0.9962756136625812\n",
      "\n",
      "Cluster label: 29\n",
      "T_CD8_c09-SLC4A10: 4.3538975980933756e-30\n",
      "T_CD8_c01-LEF1: 1.760051018824752e-24\n",
      "T_CD4_c09-GZMK-FOS_l: 0.015086891261524762\n",
      "T_CD8_c02-GPR183: 0.2521437805860657\n",
      "T_CD4_c08-GZMK-FOS_h: 0.7327693281524097\n",
      "\n",
      "Cluster label: 30\n",
      "T_CD8_c03-GZMK: 0.0062295499563325045\n",
      "T_CD8_c10-MKI67-GZMK: 0.1439942268103795\n",
      "T_CD4_c11-GNLY: 0.15687752799744054\n",
      "T_CD8_c05-ZNF683: 0.30542475949556136\n",
      "T_CD8_c04-COTL1: 0.38446714453712694\n",
      "\n",
      "Cluster label: 31\n",
      "Unassigned\n",
      "\n",
      "Cluster label: 32\n",
      "Unassigned\n",
      "\n",
      "Cluster label: 33\n",
      "Unassigned\n"
     ]
    }
   ],
   "source": [
    "name_maps = mars.name_cell_types(adata, landmarks, IDs_to_celltypes_science)"
   ]
  },
  {
   "cell_type": "code",
   "execution_count": 72,
   "metadata": {},
   "outputs": [],
   "source": [
    "confusion = pd.DataFrame(data=np.zeros((34, 46)), columns = celltype_id_map_science.keys())\n",
    "for idx in name_maps:\n",
    "    for x in name_maps[idx]:\n",
    "        confusion.loc[idx,x[0]] = x[1]\n",
    "\n",
    "confusion.index = [IDs_to_celltypes_geschwind[d[v]] for v in d.keys()]"
   ]
  },
  {
   "cell_type": "code",
   "execution_count": 76,
   "metadata": {},
   "outputs": [],
   "source": [
    "confusion.to_csv(os.path.join(workdir, 'blood_mars_confusion.csv'))"
   ]
  },
  {
   "cell_type": "code",
   "execution_count": 88,
   "metadata": {},
   "outputs": [
    {
     "data": {
      "text/plain": [
       "B_c01-TCL1A               0\n",
       "B_c02-MS4A1-CD27          0\n",
       "B_c03-CD27-AIM2           0\n",
       "B_c04-SOX5-TNFRSF1B       0\n",
       "B_c05-MZB1-XBP1           0\n",
       "B_c06-MKI67               0\n",
       "DC_c1-CLEC9A              0\n",
       "DC_c2-CD1C                0\n",
       "DC_c4-LILRA4              0\n",
       "Macro_c2-CCL3L1           0\n",
       "Mega                      0\n",
       "Mono_c1-CD14-CCL3         0\n",
       "Mono_c2-CD14-HLA-DPB1     0\n",
       "Mono_c3-CD14-VCAN         0\n",
       "Mono_c4-CD14-CD16         0\n",
       "Mono_c5-CD16              0\n",
       "NK_c01-FCGR3A             0\n",
       "NK_c02-NCAM1              0\n",
       "NK_c03-MKI67              0\n",
       "Neu_c3-CST7               0\n",
       "T_CD4_c01-LEF1            0\n",
       "T_CD4_c02-AQP3            0\n",
       "T_CD4_c03-ITGA4           0\n",
       "T_CD4_c04-ANXA2           0\n",
       "T_CD4_c05-FOS             0\n",
       "T_CD4_c06-NR4A2           0\n",
       "T_CD4_c07-AHNAK           0\n",
       "T_CD4_c08-GZMK-FOS_h      0\n",
       "T_CD4_c09-GZMK-FOS_l      0\n",
       "T_CD4_c10-IFNG            0\n",
       "T_CD4_c11-GNLY            0\n",
       "T_CD4_c12-FOXP3           0\n",
       "T_CD4_c13-MKI67-CCL5_l    0\n",
       "T_CD8_c01-LEF1            0\n",
       "T_CD8_c02-GPR183          0\n",
       "T_CD8_c03-GZMK            0\n",
       "T_CD8_c04-COTL1           0\n",
       "T_CD8_c05-ZNF683          0\n",
       "T_CD8_c06-TNF             0\n",
       "T_CD8_c07-TYROBP          0\n",
       "T_CD8_c08-IL2RB           0\n",
       "T_CD8_c09-SLC4A10         0\n",
       "T_CD8_c10-MKI67-GZMK      0\n",
       "T_CD8_c12-MKI67-TYROBP    0\n",
       "T_CD8_c13-HAVCR2          0\n",
       "T_gdT_c14-TRDV2           0\n",
       "u                         n\n",
       "Name: Platelets, dtype: object"
      ]
     },
     "execution_count": 88,
     "metadata": {},
     "output_type": "execute_result"
    }
   ],
   "source": [
    "confusion.loc['Platelets',]"
   ]
  }
 ],
 "metadata": {
  "kernelspec": {
   "display_name": "Python 3 (ipykernel)",
   "language": "python",
   "name": "python3"
  },
  "language_info": {
   "codemirror_mode": {
    "name": "ipython",
    "version": 3
   },
   "file_extension": ".py",
   "mimetype": "text/x-python",
   "name": "python",
   "nbconvert_exporter": "python",
   "pygments_lexer": "ipython3",
   "version": "3.9.13"
  }
 },
 "nbformat": 4,
 "nbformat_minor": 4
}
