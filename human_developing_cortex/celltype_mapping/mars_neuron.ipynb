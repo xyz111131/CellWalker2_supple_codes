{
 "cells": [
  {
   "cell_type": "code",
   "execution_count": 1,
   "metadata": {},
   "outputs": [
    {
     "name": "stderr",
     "output_type": "stream",
     "text": [
      "/pollard/home/zhhu/miniconda3/envs/mars2/lib/python3.7/site-packages/scanpy/api/__init__.py:6: FutureWarning: \n",
      "\n",
      "In a future version of Scanpy, `scanpy.api` will be removed.\n",
      "Simply use `import scanpy as sc` and `import scanpy.external as sce` instead.\n",
      "\n",
      "  FutureWarning\n"
     ]
    }
   ],
   "source": [
    "import torch\n",
    "import sys\n",
    "import numpy as np\n",
    "import pandas as pd\n",
    "import scanpy.api as sc\n",
    "from anndata import AnnData\n",
    "#import h5py\n",
    "#import anndata as ad\n",
    "\n",
    "%matplotlib inline\n",
    "from matplotlib import pyplot as plt\n",
    "import matplotlib as mpl\n",
    "\n",
    "sys.path.append(\"../\")\n",
    "from args_parser import get_parser\n",
    "from model.mars import MARS\n",
    "from model.experiment_dataset import ExperimentDataset\n",
    "from data.benchmarks import BenchmarkData\n",
    "import warnings\n",
    "warnings.filterwarnings('ignore')"
   ]
  },
  {
   "cell_type": "markdown",
   "metadata": {},
   "source": [
    "# Setting parameters"
   ]
  },
  {
   "cell_type": "markdown",
   "metadata": {},
   "source": [
    "Loading default parameters"
   ]
  },
  {
   "cell_type": "code",
   "execution_count": 2,
   "metadata": {},
   "outputs": [],
   "source": [
    "params, unknown = get_parser().parse_known_args()"
   ]
  },
  {
   "cell_type": "code",
   "execution_count": 3,
   "metadata": {},
   "outputs": [
    {
     "data": {
      "text/plain": [
       "Namespace(cuda=False, epochs=30, epochs_pretrain=25, learning_rate=0.001, lr_scheduler_gamma=0.5, lr_scheduler_step=20, manual_seed=3, model_file='trained_models/source.pt', pretrain=True, pretrain_batch=None)"
      ]
     },
     "execution_count": 3,
     "metadata": {},
     "output_type": "execute_result"
    }
   ],
   "source": [
    "params"
   ]
  },
  {
   "cell_type": "markdown",
   "metadata": {},
   "source": [
    "Checking if CUDA device is available"
   ]
  },
  {
   "cell_type": "code",
   "execution_count": 4,
   "metadata": {},
   "outputs": [],
   "source": [
    "if torch.cuda.is_available() and not params.cuda:\n",
    "        print(\"WARNING: You have a CUDA device, so you should probably run with --cuda\")\n",
    "device = 'cuda:0' if torch.cuda.is_available() and params.cuda else 'cpu'\n",
    "params.device = device"
   ]
  },
  {
   "cell_type": "code",
   "execution_count": 5,
   "metadata": {},
   "outputs": [],
   "source": [
    "def init_seed(opt):\n",
    "    torch.cuda.cudnn_enabled = False\n",
    "    np.random.seed(opt.manual_seed)\n",
    "    torch.manual_seed(opt.manual_seed)\n",
    "    torch.cuda.manual_seed(opt.manual_seed)\n",
    "init_seed(params)"
   ]
  },
  {
   "cell_type": "markdown",
   "metadata": {},
   "source": [
    "# Prepare integrated data"
   ]
  },
  {
   "cell_type": "code",
   "execution_count": 6,
   "metadata": {},
   "outputs": [],
   "source": [
    "#dat = pd.read_csv(\"/pollard/home/zhhu/cellwalk/merge_scaledata.csv\", index_col = 0) #3000 × 7498\n",
    "dat = pd.read_csv(\"/pollard/data/projects/zhhu/cellwalk/merge2_scaledata.csv\", index_col = 0) #3000 × 7498"
   ]
  },
  {
   "cell_type": "code",
   "execution_count": 7,
   "metadata": {},
   "outputs": [
    {
     "name": "stdout",
     "output_type": "stream",
     "text": [
      "Index(['Hi_GW21_4.Hi_GW21_4', 'Hi_GW21_5.Hi_GW21_5', 'Hi_GW21_8.Hi_GW21_8',\n",
      "       'Hi_GW21_1.Hi_GW21_1', 'Hi_GW21_2.Hi_GW21_2', 'Hi_GW21_3.Hi_GW21_3',\n",
      "       'Hi_GW21_7.Hi_GW21_7', 'Hi_GW21_6.Hi_GW21_6', 'Hi_GW16_11.Hi_GW16_11',\n",
      "       'Hi_GW16_3.Hi_GW16_3'],\n",
      "      dtype='object')\n"
     ]
    }
   ],
   "source": [
    "adata = AnnData(dat.values.transpose())\n",
    "adata\n",
    "\n",
    "adata.obs_names = dat.columns\n",
    "adata.var_names = dat.index\n",
    "print(adata.obs_names[:10])"
   ]
  },
  {
   "cell_type": "code",
   "execution_count": 8,
   "metadata": {},
   "outputs": [],
   "source": [
    "#meta = pd.read_csv(\"/pollard/home/zhhu/cellwalk/merge_metadata.csv\", index_col = 0) \n",
    "meta = pd.read_csv(\"/pollard/data/projects/zhhu/cellwalk/merge2_metadata.csv\", index_col = 0) "
   ]
  },
  {
   "cell_type": "code",
   "execution_count": 11,
   "metadata": {},
   "outputs": [
    {
     "data": {
      "text/html": [
       "<div>\n",
       "<style scoped>\n",
       "    .dataframe tbody tr th:only-of-type {\n",
       "        vertical-align: middle;\n",
       "    }\n",
       "\n",
       "    .dataframe tbody tr th {\n",
       "        vertical-align: top;\n",
       "    }\n",
       "\n",
       "    .dataframe thead th {\n",
       "        text-align: right;\n",
       "    }\n",
       "</style>\n",
       "<table border=\"1\" class=\"dataframe\">\n",
       "  <thead>\n",
       "    <tr style=\"text-align: right;\">\n",
       "      <th></th>\n",
       "      <th>orig.ident</th>\n",
       "      <th>nCount_RNA</th>\n",
       "      <th>nFeature_RNA</th>\n",
       "      <th>WGCNAcluster</th>\n",
       "      <th>Name</th>\n",
       "      <th>Age_in_Weeks</th>\n",
       "      <th>RegionName</th>\n",
       "      <th>Laminae</th>\n",
       "      <th>Area</th>\n",
       "      <th>Subcluster</th>\n",
       "      <th>...</th>\n",
       "      <th>Index</th>\n",
       "      <th>Library</th>\n",
       "      <th>Number_genes_detected</th>\n",
       "      <th>Number_UMI</th>\n",
       "      <th>Percentage_mitochondrial</th>\n",
       "      <th>S_phase_score</th>\n",
       "      <th>G2M_phase_score</th>\n",
       "      <th>Phase</th>\n",
       "      <th>integrated_snn_res.0.8</th>\n",
       "      <th>seurat_clusters</th>\n",
       "    </tr>\n",
       "  </thead>\n",
       "  <tbody>\n",
       "    <tr>\n",
       "      <th>S222.H8</th>\n",
       "      <td>fetalBrain</td>\n",
       "      <td>975641.746817</td>\n",
       "      <td>3341</td>\n",
       "      <td>U4</td>\n",
       "      <td>Sample48</td>\n",
       "      <td>5.85</td>\n",
       "      <td>Presumptive_cortex</td>\n",
       "      <td>All</td>\n",
       "      <td>0</td>\n",
       "      <td>NaN</td>\n",
       "      <td>...</td>\n",
       "      <td>NaN</td>\n",
       "      <td>NaN</td>\n",
       "      <td>NaN</td>\n",
       "      <td>NaN</td>\n",
       "      <td>NaN</td>\n",
       "      <td>NaN</td>\n",
       "      <td>NaN</td>\n",
       "      <td>NaN</td>\n",
       "      <td>10</td>\n",
       "      <td>10</td>\n",
       "    </tr>\n",
       "    <tr>\n",
       "      <th>GTCCATACTTCA</th>\n",
       "      <td>fetalBrain2</td>\n",
       "      <td>1750.000000</td>\n",
       "      <td>1222</td>\n",
       "      <td>NaN</td>\n",
       "      <td>NaN</td>\n",
       "      <td>NaN</td>\n",
       "      <td>NaN</td>\n",
       "      <td>NaN</td>\n",
       "      <td>NaN</td>\n",
       "      <td>vRG_0</td>\n",
       "      <td>...</td>\n",
       "      <td>N726</td>\n",
       "      <td>Geschwind</td>\n",
       "      <td>1247.0</td>\n",
       "      <td>1775.0</td>\n",
       "      <td>1.13</td>\n",
       "      <td>0.07</td>\n",
       "      <td>-0.05</td>\n",
       "      <td>S</td>\n",
       "      <td>7</td>\n",
       "      <td>7</td>\n",
       "    </tr>\n",
       "  </tbody>\n",
       "</table>\n",
       "<p>2 rows × 24 columns</p>\n",
       "</div>"
      ],
      "text/plain": [
       "               orig.ident     nCount_RNA  nFeature_RNA WGCNAcluster      Name  \\\n",
       "S222.H8        fetalBrain  975641.746817          3341           U4  Sample48   \n",
       "GTCCATACTTCA  fetalBrain2    1750.000000          1222          NaN       NaN   \n",
       "\n",
       "              Age_in_Weeks          RegionName Laminae Area Subcluster  ...  \\\n",
       "S222.H8               5.85  Presumptive_cortex     All    0        NaN  ...   \n",
       "GTCCATACTTCA           NaN                 NaN     NaN  NaN      vRG_0  ...   \n",
       "\n",
       "             Index    Library Number_genes_detected  Number_UMI  \\\n",
       "S222.H8        NaN        NaN                   NaN         NaN   \n",
       "GTCCATACTTCA  N726  Geschwind                1247.0      1775.0   \n",
       "\n",
       "             Percentage_mitochondrial S_phase_score  G2M_phase_score  Phase  \\\n",
       "S222.H8                           NaN           NaN              NaN    NaN   \n",
       "GTCCATACTTCA                     1.13          0.07            -0.05      S   \n",
       "\n",
       "              integrated_snn_res.0.8  seurat_clusters  \n",
       "S222.H8                           10               10  \n",
       "GTCCATACTTCA                       7                7  \n",
       "\n",
       "[2 rows x 24 columns]"
      ]
     },
     "execution_count": 11,
     "metadata": {},
     "output_type": "execute_result"
    }
   ],
   "source": [
    "meta.iloc[4128:4130,:]"
   ]
  },
  {
   "cell_type": "code",
   "execution_count": 13,
   "metadata": {},
   "outputs": [
    {
     "data": {
      "text/plain": [
       "6768"
      ]
     },
     "execution_count": 13,
     "metadata": {},
     "output_type": "execute_result"
    }
   ],
   "source": [
    "meta.shape[0] - 4129"
   ]
  },
  {
   "cell_type": "code",
   "execution_count": 14,
   "metadata": {},
   "outputs": [
    {
     "data": {
      "text/plain": [
       "AnnData object with n_obs × n_vars = 10897 × 3000 \n",
       "    obs: 'ground_truth', 'experiment'"
      ]
     },
     "execution_count": 14,
     "metadata": {},
     "output_type": "execute_result"
    }
   ],
   "source": [
    "adata.obs[\"ground_truth\"] = pd.Categorical(meta.WGCNAcluster[:4129].append(meta.Cluster[4129:]))  # Categoricals are preferred for efficiency\n",
    "adata.obs[\"experiment\"] = ['science'] * 4129 + ['geschwind'] * (meta.shape[0] - 4129)\n",
    "adata"
   ]
  },
  {
   "cell_type": "code",
   "execution_count": 39,
   "metadata": {},
   "outputs": [
    {
     "data": {
      "text/plain": [
       "AnnData object with n_obs × n_vars = 10897 × 3000 \n",
       "    obs: 'MARS_labels', 'experiment', 'truth_labels'\n",
       "    uns: 'neighbors', 'pca', 'experiment_colors'\n",
       "    obsm: 'MARS_embedding', 'X_pca', 'X_tsne'\n",
       "    varm: 'PCs'"
      ]
     },
     "execution_count": 39,
     "metadata": {},
     "output_type": "execute_result"
    }
   ],
   "source": [
    "adata"
   ]
  },
  {
   "cell_type": "code",
   "execution_count": 15,
   "metadata": {},
   "outputs": [
    {
     "name": "stderr",
     "output_type": "stream",
     "text": [
      "... storing 'experiment' as categorical\n"
     ]
    }
   ],
   "source": [
    "adata.write('../benchmark_datasets/merge2_neuron.h5ad')"
   ]
  },
  {
   "cell_type": "markdown",
   "metadata": {},
   "source": [
    "# Loading dataset"
   ]
  },
  {
   "cell_type": "code",
   "execution_count": 40,
   "metadata": {},
   "outputs": [
    {
     "data": {
      "text/plain": [
       "AnnData object with n_obs × n_vars = 10897 × 3000 \n",
       "    obs: 'ground_truth', 'experiment'"
      ]
     },
     "execution_count": 40,
     "metadata": {},
     "output_type": "execute_result"
    }
   ],
   "source": [
    "adata = sc.read_h5ad('../benchmark_datasets/merge2_neuron.h5ad')\n",
    "adata"
   ]
  },
  {
   "cell_type": "code",
   "execution_count": null,
   "metadata": {},
   "outputs": [],
   "source": [
    "#sc.pp.normalize_per_cell(adata, counts_per_cell_after=1e4)\n",
    "#sc.pp.scale(adata, max_value=10, zero_center=True)"
   ]
  },
  {
   "cell_type": "code",
   "execution_count": 37,
   "metadata": {},
   "outputs": [
    {
     "name": "stderr",
     "output_type": "stream",
     "text": [
      "... storing 'MARS_labels' as categorical\n"
     ]
    },
    {
     "ename": "IndexError",
     "evalue": "Key \"ground_truth\" is not valid observation/variable name/index.",
     "output_type": "error",
     "traceback": [
      "\u001b[0;31m---------------------------------------------------------------------------\u001b[0m",
      "\u001b[0;31mIndexError\u001b[0m                                Traceback (most recent call last)",
      "\u001b[0;32m<ipython-input-37-40bab3def074>\u001b[0m in \u001b[0;36m<module>\u001b[0;34m\u001b[0m\n\u001b[1;32m      2\u001b[0m \u001b[0msc\u001b[0m\u001b[0;34m.\u001b[0m\u001b[0mpp\u001b[0m\u001b[0;34m.\u001b[0m\u001b[0mpca\u001b[0m\u001b[0;34m(\u001b[0m\u001b[0madata\u001b[0m\u001b[0;34m,\u001b[0m \u001b[0mn_comps\u001b[0m\u001b[0;34m=\u001b[0m\u001b[0;36m50\u001b[0m\u001b[0;34m)\u001b[0m\u001b[0;34m\u001b[0m\u001b[0m\n\u001b[1;32m      3\u001b[0m \u001b[0msc\u001b[0m\u001b[0;34m.\u001b[0m\u001b[0mtl\u001b[0m\u001b[0;34m.\u001b[0m\u001b[0mtsne\u001b[0m\u001b[0;34m(\u001b[0m\u001b[0madata\u001b[0m\u001b[0;34m,\u001b[0m \u001b[0mn_jobs\u001b[0m \u001b[0;34m=\u001b[0m \u001b[0;36m5\u001b[0m \u001b[0;34m)\u001b[0m\u001b[0;34m\u001b[0m\u001b[0m\n\u001b[0;32m----> 4\u001b[0;31m \u001b[0msc\u001b[0m\u001b[0;34m.\u001b[0m\u001b[0mpl\u001b[0m\u001b[0;34m.\u001b[0m\u001b[0mtsne\u001b[0m\u001b[0;34m(\u001b[0m\u001b[0madata\u001b[0m\u001b[0;34m,\u001b[0m \u001b[0mcolor\u001b[0m\u001b[0;34m=\u001b[0m\u001b[0;34m[\u001b[0m\u001b[0;34m'experiment'\u001b[0m\u001b[0;34m,\u001b[0m\u001b[0;34m'ground_truth'\u001b[0m\u001b[0;34m]\u001b[0m\u001b[0;34m,\u001b[0m\u001b[0msize\u001b[0m\u001b[0;34m=\u001b[0m\u001b[0;36m50\u001b[0m\u001b[0;34m)\u001b[0m\u001b[0;34m\u001b[0m\u001b[0m\n\u001b[0m",
      "\u001b[0;32m~/miniconda3/envs/mars2/lib/python3.7/site-packages/scanpy/plotting/_tools/scatterplots.py\u001b[0m in \u001b[0;36mtsne\u001b[0;34m(adata, **kwargs)\u001b[0m\n\u001b[1;32m    317\u001b[0m     \u001b[0mIf\u001b[0m\u001b[0;31m \u001b[0m\u001b[0;31m`\u001b[0m\u001b[0mshow\u001b[0m\u001b[0;34m==\u001b[0m\u001b[0;32mFalse\u001b[0m\u001b[0;31m`\u001b[0m \u001b[0ma\u001b[0m \u001b[0;34m:\u001b[0m\u001b[0;32mclass\u001b[0m\u001b[0;34m:\u001b[0m\u001b[0;31m`\u001b[0m\u001b[0;34m~\u001b[0m\u001b[0mmatplotlib\u001b[0m\u001b[0;34m.\u001b[0m\u001b[0maxes\u001b[0m\u001b[0;34m.\u001b[0m\u001b[0mAxes\u001b[0m\u001b[0;31m`\u001b[0m \u001b[0;32mor\u001b[0m \u001b[0ma\u001b[0m \u001b[0mlist\u001b[0m \u001b[0mof\u001b[0m \u001b[0mit\u001b[0m\u001b[0;34m.\u001b[0m\u001b[0;34m\u001b[0m\u001b[0m\n\u001b[1;32m    318\u001b[0m     \"\"\"\n\u001b[0;32m--> 319\u001b[0;31m     \u001b[0;32mreturn\u001b[0m \u001b[0mplot_scatter\u001b[0m\u001b[0;34m(\u001b[0m\u001b[0madata\u001b[0m\u001b[0;34m,\u001b[0m \u001b[0;34m'tsne'\u001b[0m\u001b[0;34m,\u001b[0m \u001b[0;34m**\u001b[0m\u001b[0mkwargs\u001b[0m\u001b[0;34m)\u001b[0m\u001b[0;34m\u001b[0m\u001b[0m\n\u001b[0m\u001b[1;32m    320\u001b[0m \u001b[0;34m\u001b[0m\u001b[0m\n\u001b[1;32m    321\u001b[0m \u001b[0;34m\u001b[0m\u001b[0m\n",
      "\u001b[0;32m~/miniconda3/envs/mars2/lib/python3.7/site-packages/scanpy/plotting/_tools/scatterplots.py\u001b[0m in \u001b[0;36mplot_scatter\u001b[0;34m(adata, basis, color, gene_symbols, use_raw, sort_order, edges, edges_width, edges_color, arrows, arrows_kwds, groups, components, layer, projection, color_map, palette, size, frameon, legend_fontsize, legend_fontweight, legend_loc, legend_fontoutline, ncols, hspace, wspace, title, show, save, ax, return_fig, **kwargs)\u001b[0m\n\u001b[1;32m    154\u001b[0m             \u001b[0madata\u001b[0m\u001b[0;34m,\u001b[0m \u001b[0mvalue_to_plot\u001b[0m\u001b[0;34m,\u001b[0m \u001b[0mlayer\u001b[0m\u001b[0;34m=\u001b[0m\u001b[0mlayer\u001b[0m\u001b[0;34m,\u001b[0m\u001b[0;34m\u001b[0m\u001b[0m\n\u001b[1;32m    155\u001b[0m             \u001b[0mgroups\u001b[0m\u001b[0;34m=\u001b[0m\u001b[0mgroups\u001b[0m\u001b[0;34m,\u001b[0m \u001b[0mpalette\u001b[0m\u001b[0;34m=\u001b[0m\u001b[0mpalette\u001b[0m\u001b[0;34m,\u001b[0m\u001b[0;34m\u001b[0m\u001b[0m\n\u001b[0;32m--> 156\u001b[0;31m             \u001b[0muse_raw\u001b[0m\u001b[0;34m=\u001b[0m\u001b[0muse_raw\u001b[0m\u001b[0;34m,\u001b[0m \u001b[0mgene_symbols\u001b[0m\u001b[0;34m=\u001b[0m\u001b[0mgene_symbols\u001b[0m\u001b[0;34m,\u001b[0m\u001b[0;34m\u001b[0m\u001b[0m\n\u001b[0m\u001b[1;32m    157\u001b[0m         )\n\u001b[1;32m    158\u001b[0m \u001b[0;34m\u001b[0m\u001b[0m\n",
      "\u001b[0;32m~/miniconda3/envs/mars2/lib/python3.7/site-packages/scanpy/plotting/_tools/scatterplots.py\u001b[0m in \u001b[0;36m_get_color_values\u001b[0;34m(adata, value_to_plot, groups, palette, use_raw, gene_symbols, layer)\u001b[0m\n\u001b[1;32m    696\u001b[0m         \u001b[0mvalues\u001b[0m \u001b[0;34m=\u001b[0m \u001b[0madata\u001b[0m\u001b[0;34m.\u001b[0m\u001b[0mraw\u001b[0m\u001b[0;34m.\u001b[0m\u001b[0mobs_vector\u001b[0m\u001b[0;34m(\u001b[0m\u001b[0mvalue_to_plot\u001b[0m\u001b[0;34m)\u001b[0m\u001b[0;34m\u001b[0m\u001b[0m\n\u001b[1;32m    697\u001b[0m     \u001b[0;32melse\u001b[0m\u001b[0;34m:\u001b[0m\u001b[0;34m\u001b[0m\u001b[0m\n\u001b[0;32m--> 698\u001b[0;31m         \u001b[0mvalues\u001b[0m \u001b[0;34m=\u001b[0m \u001b[0madata\u001b[0m\u001b[0;34m.\u001b[0m\u001b[0mobs_vector\u001b[0m\u001b[0;34m(\u001b[0m\u001b[0mvalue_to_plot\u001b[0m\u001b[0;34m,\u001b[0m \u001b[0mlayer\u001b[0m\u001b[0;34m=\u001b[0m\u001b[0mlayer\u001b[0m\u001b[0;34m)\u001b[0m\u001b[0;34m\u001b[0m\u001b[0m\n\u001b[0m\u001b[1;32m    699\u001b[0m \u001b[0;34m\u001b[0m\u001b[0m\n\u001b[1;32m    700\u001b[0m     \u001b[0;31m###\u001b[0m\u001b[0;34m\u001b[0m\u001b[0;34m\u001b[0m\u001b[0m\n",
      "\u001b[0;32m~/miniconda3/envs/mars2/lib/python3.7/site-packages/anndata/core/anndata.py\u001b[0m in \u001b[0;36mobs_vector\u001b[0;34m(self, k, layer)\u001b[0m\n\u001b[1;32m   1480\u001b[0m             \u001b[0;32mreturn\u001b[0m \u001b[0mself\u001b[0m\u001b[0;34m.\u001b[0m\u001b[0mobs\u001b[0m\u001b[0;34m[\u001b[0m\u001b[0mk\u001b[0m\u001b[0;34m]\u001b[0m\u001b[0;34m.\u001b[0m\u001b[0mvalues\u001b[0m\u001b[0;34m\u001b[0m\u001b[0m\n\u001b[1;32m   1481\u001b[0m         \u001b[0;32melse\u001b[0m\u001b[0;34m:\u001b[0m\u001b[0;34m\u001b[0m\u001b[0m\n\u001b[0;32m-> 1482\u001b[0;31m             \u001b[0midx\u001b[0m \u001b[0;34m=\u001b[0m \u001b[0mself\u001b[0m\u001b[0;34m.\u001b[0m\u001b[0m_normalize_indices\u001b[0m\u001b[0;34m(\u001b[0m\u001b[0;34m(\u001b[0m\u001b[0mslice\u001b[0m\u001b[0;34m(\u001b[0m\u001b[0;32mNone\u001b[0m\u001b[0;34m)\u001b[0m\u001b[0;34m,\u001b[0m \u001b[0mk\u001b[0m\u001b[0;34m)\u001b[0m\u001b[0;34m)\u001b[0m\u001b[0;34m\u001b[0m\u001b[0m\n\u001b[0m\u001b[1;32m   1483\u001b[0m             \u001b[0ma\u001b[0m \u001b[0;34m=\u001b[0m \u001b[0mself\u001b[0m\u001b[0;34m.\u001b[0m\u001b[0m_get_X\u001b[0m\u001b[0;34m(\u001b[0m\u001b[0mlayer\u001b[0m\u001b[0;34m=\u001b[0m\u001b[0mlayer\u001b[0m\u001b[0;34m)\u001b[0m\u001b[0;34m[\u001b[0m\u001b[0midx\u001b[0m\u001b[0;34m]\u001b[0m\u001b[0;34m\u001b[0m\u001b[0m\n\u001b[1;32m   1484\u001b[0m         \u001b[0;32mif\u001b[0m \u001b[0missparse\u001b[0m\u001b[0;34m(\u001b[0m\u001b[0ma\u001b[0m\u001b[0;34m)\u001b[0m\u001b[0;34m:\u001b[0m\u001b[0;34m\u001b[0m\u001b[0m\n",
      "\u001b[0;32m~/miniconda3/envs/mars2/lib/python3.7/site-packages/anndata/core/anndata.py\u001b[0m in \u001b[0;36m_normalize_indices\u001b[0;34m(self, index)\u001b[0m\n\u001b[1;32m   1208\u001b[0m         \u001b[0mobs\u001b[0m\u001b[0;34m,\u001b[0m \u001b[0mvar\u001b[0m \u001b[0;34m=\u001b[0m \u001b[0munpack_index\u001b[0m\u001b[0;34m(\u001b[0m\u001b[0mindex\u001b[0m\u001b[0;34m)\u001b[0m\u001b[0;34m\u001b[0m\u001b[0m\n\u001b[1;32m   1209\u001b[0m         \u001b[0mobs\u001b[0m \u001b[0;34m=\u001b[0m \u001b[0m_normalize_index\u001b[0m\u001b[0;34m(\u001b[0m\u001b[0mobs\u001b[0m\u001b[0;34m,\u001b[0m \u001b[0mself\u001b[0m\u001b[0;34m.\u001b[0m\u001b[0mobs_names\u001b[0m\u001b[0;34m)\u001b[0m\u001b[0;34m\u001b[0m\u001b[0m\n\u001b[0;32m-> 1210\u001b[0;31m         \u001b[0mvar\u001b[0m \u001b[0;34m=\u001b[0m \u001b[0m_normalize_index\u001b[0m\u001b[0;34m(\u001b[0m\u001b[0mvar\u001b[0m\u001b[0;34m,\u001b[0m \u001b[0mself\u001b[0m\u001b[0;34m.\u001b[0m\u001b[0mvar_names\u001b[0m\u001b[0;34m)\u001b[0m\u001b[0;34m\u001b[0m\u001b[0m\n\u001b[0m\u001b[1;32m   1211\u001b[0m         \u001b[0;32mreturn\u001b[0m \u001b[0mobs\u001b[0m\u001b[0;34m,\u001b[0m \u001b[0mvar\u001b[0m\u001b[0;34m\u001b[0m\u001b[0m\n\u001b[1;32m   1212\u001b[0m \u001b[0;34m\u001b[0m\u001b[0m\n",
      "\u001b[0;32m~/miniconda3/envs/mars2/lib/python3.7/site-packages/anndata/core/anndata.py\u001b[0m in \u001b[0;36m_normalize_index\u001b[0;34m(index, names)\u001b[0m\n\u001b[1;32m    153\u001b[0m         \u001b[0;32mreturn\u001b[0m \u001b[0mslice\u001b[0m\u001b[0;34m(\u001b[0m\u001b[0mstart\u001b[0m\u001b[0;34m,\u001b[0m \u001b[0mstop\u001b[0m\u001b[0;34m,\u001b[0m \u001b[0mstep\u001b[0m\u001b[0;34m)\u001b[0m\u001b[0;34m\u001b[0m\u001b[0m\n\u001b[1;32m    154\u001b[0m     \u001b[0;32melif\u001b[0m \u001b[0misinstance\u001b[0m\u001b[0;34m(\u001b[0m\u001b[0mindex\u001b[0m\u001b[0;34m,\u001b[0m \u001b[0;34m(\u001b[0m\u001b[0mnp\u001b[0m\u001b[0;34m.\u001b[0m\u001b[0minteger\u001b[0m\u001b[0;34m,\u001b[0m \u001b[0mint\u001b[0m\u001b[0;34m,\u001b[0m \u001b[0mstr\u001b[0m\u001b[0;34m)\u001b[0m\u001b[0;34m)\u001b[0m\u001b[0;34m:\u001b[0m\u001b[0;34m\u001b[0m\u001b[0m\n\u001b[0;32m--> 155\u001b[0;31m         \u001b[0;32mreturn\u001b[0m \u001b[0mname_idx\u001b[0m\u001b[0;34m(\u001b[0m\u001b[0mindex\u001b[0m\u001b[0;34m)\u001b[0m\u001b[0;34m\u001b[0m\u001b[0m\n\u001b[0m\u001b[1;32m    156\u001b[0m     \u001b[0;32melif\u001b[0m \u001b[0misinstance\u001b[0m\u001b[0;34m(\u001b[0m\u001b[0mindex\u001b[0m\u001b[0;34m,\u001b[0m \u001b[0;34m(\u001b[0m\u001b[0mSequence\u001b[0m\u001b[0;34m,\u001b[0m \u001b[0mnp\u001b[0m\u001b[0;34m.\u001b[0m\u001b[0mndarray\u001b[0m\u001b[0;34m,\u001b[0m \u001b[0mpd\u001b[0m\u001b[0;34m.\u001b[0m\u001b[0mIndex\u001b[0m\u001b[0;34m)\u001b[0m\u001b[0;34m)\u001b[0m\u001b[0;34m:\u001b[0m\u001b[0;34m\u001b[0m\u001b[0m\n\u001b[1;32m    157\u001b[0m         \u001b[0;31m# here, we replaced the implementation based on name_idx with this\u001b[0m\u001b[0;34m\u001b[0m\u001b[0;34m\u001b[0m\u001b[0m\n",
      "\u001b[0;32m~/miniconda3/envs/mars2/lib/python3.7/site-packages/anndata/core/anndata.py\u001b[0m in \u001b[0;36mname_idx\u001b[0;34m(i)\u001b[0m\n\u001b[1;32m    140\u001b[0m                 raise IndexError(\n\u001b[1;32m    141\u001b[0m                     \u001b[0;34m'Key \"{}\" is not valid observation/variable name/index.'\u001b[0m\u001b[0;34m\u001b[0m\u001b[0m\n\u001b[0;32m--> 142\u001b[0;31m                     .format(i))\n\u001b[0m\u001b[1;32m    143\u001b[0m             \u001b[0mi\u001b[0m \u001b[0;34m=\u001b[0m \u001b[0mi_found\u001b[0m\u001b[0;34m[\u001b[0m\u001b[0;36m0\u001b[0m\u001b[0;34m]\u001b[0m\u001b[0;34m\u001b[0m\u001b[0m\n\u001b[1;32m    144\u001b[0m         \u001b[0;32mreturn\u001b[0m \u001b[0mi\u001b[0m\u001b[0;34m\u001b[0m\u001b[0m\n",
      "\u001b[0;31mIndexError\u001b[0m: Key \"ground_truth\" is not valid observation/variable name/index."
     ]
    },
    {
     "data": {
      "image/png": "[encoded data removed]",
      "text/plain": [
       "<Figure size 989.28x288 with 1 Axes>"
      ]
     },
     "metadata": {},
     "output_type": "display_data"
    }
   ],
   "source": [
    "sc.pp.neighbors(adata, n_neighbors=30, use_rep='X')\n",
    "sc.pp.pca(adata, n_comps=50)\n",
    "sc.tl.tsne(adata, n_jobs = 5 )\n",
    "sc.pl.tsne(adata, color=['experiment','ground_truth'],size=50)"
   ]
  },
  {
   "cell_type": "code",
   "execution_count": 47,
   "metadata": {},
   "outputs": [
    {
     "data": {
      "text/plain": [
       "AnnData object with n_obs × n_vars = 10897 × 3000 \n",
       "    obs: 'ground_truth', 'experiment'"
      ]
     },
     "execution_count": 47,
     "metadata": {},
     "output_type": "execute_result"
    }
   ],
   "source": [
    "adata"
   ]
  },
  {
   "cell_type": "code",
   "execution_count": 48,
   "metadata": {},
   "outputs": [
    {
     "data": {
      "text/plain": [
       "['geschwind', 'science']"
      ]
     },
     "execution_count": 48,
     "metadata": {},
     "output_type": "execute_result"
    }
   ],
   "source": [
    "datasets = list(set(adata.obs['experiment']))\n",
    "datasets"
   ]
  },
  {
   "cell_type": "markdown",
   "metadata": {},
   "source": [
    "# Train and evaluate MARS"
   ]
  },
  {
   "cell_type": "markdown",
   "metadata": {},
   "source": [
    "### Use science dataset as annotated, and geschwind as unannotated "
   ]
  },
  {
   "cell_type": "markdown",
   "metadata": {},
   "source": [
    "Prepare annotated, unannotated and pretrain datasets"
   ]
  },
  {
   "cell_type": "code",
   "execution_count": 49,
   "metadata": {},
   "outputs": [],
   "source": [
    "science = adata[adata.obs['experiment'] == 'science',:]\n",
    "geschwind = adata[adata.obs['experiment'] == 'geschwind',:]"
   ]
  },
  {
   "cell_type": "code",
   "execution_count": 50,
   "metadata": {},
   "outputs": [],
   "source": [
    " def celltype_to_numeric(adata, annotation_type):\n",
    "        \"\"\"Adds ground truth clusters data.\"\"\"\n",
    "        annotations = list(adata.obs[annotation_type])\n",
    "        annotations_set = sorted(set(annotations))\n",
    "        \n",
    "        mapping = {a:idx for idx,a in enumerate(annotations_set)}\n",
    "        \n",
    "        truth_labels = [mapping[a] for a in annotations]\n",
    "        adata.obs['truth_labels'] = pd.Categorical(values=truth_labels)\n",
    "         \n",
    "        return mapping"
   ]
  },
  {
   "cell_type": "code",
   "execution_count": 51,
   "metadata": {},
   "outputs": [
    {
     "name": "stderr",
     "output_type": "stream",
     "text": [
      "Trying to set attribute `.obs` of view, making a copy.\n",
      "Trying to set attribute `.obs` of view, making a copy.\n"
     ]
    }
   ],
   "source": [
    "celltype_id_map_science = celltype_to_numeric(science, 'ground_truth')\n",
    "IDs_to_celltypes_science = {v:k for k,v in celltype_id_map_science.items()}\n",
    "celltype_id_map_geschwind = celltype_to_numeric(geschwind, 'ground_truth')\n",
    "IDs_to_celltypes_geschwind = {v:k for k,v in celltype_id_map_geschwind.items()}"
   ]
  },
  {
   "cell_type": "code",
   "execution_count": 52,
   "metadata": {},
   "outputs": [
    {
     "name": "stdout",
     "output_type": "stream",
     "text": [
      "== Dataset: Found 4129 items \n",
      "== Dataset: Found 47 classes\n"
     ]
    }
   ],
   "source": [
    "y_science = np.array(science.obs['truth_labels'], dtype=np.int64)\n",
    "annotated = ExperimentDataset(science.X, science.obs_names, science.var_names, 'science', y_science)"
   ]
  },
  {
   "cell_type": "code",
   "execution_count": 53,
   "metadata": {},
   "outputs": [
    {
     "name": "stdout",
     "output_type": "stream",
     "text": [
      "== Dataset: Found 6768 items \n",
      "== Dataset: Found 16 classes\n"
     ]
    }
   ],
   "source": [
    "y_geschwind = np.array(geschwind.obs['truth_labels'], dtype=np.int64) # ground truth annotations will be only used for evaluation\n",
    "unannnotated = ExperimentDataset(geschwind.X, geschwind.obs_names, geschwind.var_names, 'geschwind', y_geschwind)"
   ]
  },
  {
   "cell_type": "code",
   "execution_count": 54,
   "metadata": {},
   "outputs": [],
   "source": [
    "pretrain_data = ExperimentDataset(geschwind.X, geschwind.obs_names, geschwind.var_names, 'geschwind')"
   ]
  },
  {
   "cell_type": "code",
   "execution_count": 55,
   "metadata": {},
   "outputs": [],
   "source": [
    "n_clusters = len(np.unique(unannnotated.y))"
   ]
  },
  {
   "cell_type": "code",
   "execution_count": 64,
   "metadata": {},
   "outputs": [],
   "source": [
    "params.epochs = 100"
   ]
  },
  {
   "cell_type": "markdown",
   "metadata": {},
   "source": [
    "Initialize MARS"
   ]
  },
  {
   "cell_type": "code",
   "execution_count": 65,
   "metadata": {},
   "outputs": [],
   "source": [
    "mars = MARS(n_clusters, params, [annotated], unannnotated, pretrain_data, hid_dim_1=1000, hid_dim_2=100)\n",
    "#mars = MARS(n_clusters, params, [annotated], unannnotated, pretrain_data, hid_dim_1=1000, hid_dim_2=200)"
   ]
  },
  {
   "cell_type": "markdown",
   "metadata": {},
   "source": [
    "Run MARS in evaluation mode. Ground truth annotations will be used to evaluate MARS performance and scores will be returned"
   ]
  },
  {
   "cell_type": "code",
   "execution_count": 66,
   "metadata": {
    "scrolled": true
   },
   "outputs": [
    {
     "name": "stdout",
     "output_type": "stream",
     "text": [
      "Pretraining..\n",
      "\n",
      "=== Epoch: 100 ===\n",
      "Train acc: 0.6316299438476562\n"
     ]
    }
   ],
   "source": [
    "# return both annotated and unannotated datasets with save_all_embeddings\n",
    "adata, landmarks, scores = mars.train(evaluation_mode=True, save_all_embeddings=True) # evaluation mode"
   ]
  },
  {
   "cell_type": "markdown",
   "metadata": {},
   "source": [
    "Check MARS performance"
   ]
  },
  {
   "cell_type": "code",
   "execution_count": 26,
   "metadata": {},
   "outputs": [],
   "source": [
    "def hungarian_match(y_true, y_pred):\n",
    "    \"\"\"Matches predicted labels to original using hungarian algorithm.\"\"\"\n",
    "    \n",
    "    #y_true = adjust_range(y_true)\n",
    "    #y_pred = adjust_range(y_pred)\n",
    "    \n",
    "    D = max(y_pred.max(), y_true.max()) + 1\n",
    "    w = np.zeros((D, D), dtype=np.int64)\n",
    "    # Confusion matrix.\n",
    "    for i in range(y_pred.size):\n",
    "        w[y_pred[i], y_true[i]] += 1\n",
    "    ind = linear_sum_assignment(-w)\n",
    "    ind = np.asarray(ind)\n",
    "    ind = np.transpose(ind)\n",
    "    d = {i:j for i, j in ind}\n",
    "    y_pred = np.array([d[v] for v in y_pred])\n",
    "    \n",
    "    return y_true, y_pred, d"
   ]
  },
  {
   "cell_type": "code",
   "execution_count": 27,
   "metadata": {},
   "outputs": [],
   "source": [
    "from scipy.optimize import linear_sum_assignment "
   ]
  },
  {
   "cell_type": "code",
   "execution_count": 68,
   "metadata": {},
   "outputs": [],
   "source": [
    "geschwind = adata[adata.obs['experiment'] == 'geschwind',:]\n",
    "y_true, y_pred, d = hungarian_match(geschwind.obs['truth_labels'], geschwind.obs['MARS_labels'])"
   ]
  },
  {
   "cell_type": "code",
   "execution_count": 71,
   "metadata": {},
   "outputs": [
    {
     "data": {
      "text/plain": [
       "View of AnnData object with n_obs × n_vars = 6768 × 3000 \n",
       "    obs: 'MARS_labels', 'experiment', 'truth_labels'\n",
       "    obsm: 'MARS_embedding'"
      ]
     },
     "execution_count": 71,
     "metadata": {},
     "output_type": "execute_result"
    }
   ],
   "source": [
    "geschwind"
   ]
  },
  {
   "cell_type": "code",
   "execution_count": 29,
   "metadata": {},
   "outputs": [
    {
     "data": {
      "text/plain": [
       "{0: 6,\n",
       " 1: 13,\n",
       " 2: 14,\n",
       " 3: 10,\n",
       " 4: 2,\n",
       " 5: 0,\n",
       " 6: 8,\n",
       " 7: 3,\n",
       " 8: 12,\n",
       " 9: 9,\n",
       " 10: 7,\n",
       " 11: 11,\n",
       " 12: 1,\n",
       " 13: 4,\n",
       " 14: 15,\n",
       " 15: 5}"
      ]
     },
     "execution_count": 29,
     "metadata": {},
     "output_type": "execute_result"
    }
   ],
   "source": [
    "d"
   ]
  },
  {
   "cell_type": "code",
   "execution_count": 69,
   "metadata": {
    "scrolled": false
   },
   "outputs": [
    {
     "name": "stdout",
     "output_type": "stream",
     "text": [
      "\n",
      "Cluster label: 0\n",
      "nIN3: 0.00022027952386848617\n",
      "nIN1: 0.00026807752799845483\n",
      "nIN5: 0.0005269145580938758\n",
      "EN-V1-1: 0.0006033168182777771\n",
      "EN-PFC1: 0.9969778509520678\n",
      "\n",
      "Cluster label: 1\n",
      "IPC-div2: 3.64354617480388e-14\n",
      "MGE-IPC2: 2.3804866562953376e-13\n",
      "MGE-IPC1: 4.3815015501456975e-13\n",
      "RG-div2: 0.004036666395086183\n",
      "RG-div1: 0.9959633336041702\n",
      "\n",
      "Cluster label: 2\n",
      "Unassigned\n",
      "\n",
      "Cluster label: 3\n",
      "IPC-div2: 0.009072531861829833\n",
      "MGE-div: 0.020295640185747033\n",
      "RG-div1: 0.022479803524496446\n",
      "MGE-IPC2: 0.023529948401970882\n",
      "MGE-IPC1: 0.9246220734628439\n",
      "\n",
      "Cluster label: 4\n",
      "nIN4: 0.022305300794641058\n",
      "nIN1: 0.022911802533921527\n",
      "nIN5: 0.03597253368040486\n",
      "EN-V1-1: 0.036805041605151516\n",
      "EN-PFC1: 0.6865799295225915\n",
      "\n",
      "Cluster label: 5\n",
      "Unassigned\n",
      "\n",
      "Cluster label: 6\n",
      "nIN3: 0.03019932229384428\n",
      "nIN1: 0.0318684107617871\n",
      "nIN5: 0.039641668349072734\n",
      "EN-V1-1: 0.05006794545079849\n",
      "EN-PFC1: 0.4857500137760772\n",
      "\n",
      "Cluster label: 7\n",
      "nIN3: 0.03227523376293334\n",
      "nIN1: 0.034321077567342845\n",
      "nIN5: 0.045831563227096916\n",
      "EN-V1-1: 0.047044696476609596\n",
      "EN-PFC1: 0.5050173516421312\n",
      "\n",
      "Cluster label: 8\n",
      "MGE-IPC2: 5.796470330866655e-09\n",
      "vRG: 0.00021601526283660948\n",
      "oRG: 0.15719694546160234\n",
      "RG-div2: 0.4063869241555502\n",
      "tRG: 0.4362001085655734\n",
      "\n",
      "Cluster label: 9\n",
      "nIN2: 0.03332307552153534\n",
      "nIN1: 0.03388629587563955\n",
      "nIN5: 0.03977842917536262\n",
      "EN-V1-1: 0.05346635884293707\n",
      "EN-PFC1: 0.4014991050942932\n",
      "\n",
      "Cluster label: 10\n",
      "Unassigned\n",
      "\n",
      "Cluster label: 11\n",
      "Unassigned\n",
      "\n",
      "Cluster label: 12\n",
      "Unassigned\n",
      "\n",
      "Cluster label: 13\n",
      "nIN4: 0.0011909828705610353\n",
      "EN-V1-1: 0.0015519811938021582\n",
      "nIN5: 0.0037439288201107325\n",
      "Microglia: 0.004094592045416834\n",
      "EN-PFC1: 0.984616678303769\n",
      "\n",
      "Cluster label: 14\n",
      "MGE-IPC2: 1.857130823000133e-07\n",
      "IPC-div2: 2.7279970258459523e-07\n",
      "MGE-IPC1: 4.328676985018129e-07\n",
      "EN-V1-1: 8.611135217987893e-07\n",
      "EN-PFC1: 0.9999972086699419\n",
      "\n",
      "Cluster label: 15\n",
      "U1: 2.0891506701514303e-62\n",
      "MGE-IPC2: 3.793919419303112e-13\n",
      "IPC-div2: 3.2208971420553023e-09\n",
      "MGE-div: 1.4874501233769735e-06\n",
      "MGE-IPC1: 0.9999985093285999\n"
     ]
    }
   ],
   "source": [
    "name_maps = mars.name_cell_types(adata, landmarks, IDs_to_celltypes_science)"
   ]
  },
  {
   "cell_type": "code",
   "execution_count": 72,
   "metadata": {},
   "outputs": [],
   "source": [
    "confusion = pd.DataFrame(data=np.zeros((16, 47)), columns = celltype_id_map_science.keys())\n",
    "for idx in name_maps:\n",
    "    for x in name_maps[idx]:\n",
    "        confusion.loc[idx,x[0]] = x[1]\n",
    "\n",
    "confusion.index = [IDs_to_celltypes_geschwind[d[v]] for v in d.keys()]"
   ]
  },
  {
   "cell_type": "code",
   "execution_count": 67,
   "metadata": {},
   "outputs": [],
   "source": [
    "confusion.to_csv('geschwind_to_science_confusion2.csv')"
   ]
  },
  {
   "cell_type": "code",
   "execution_count": 76,
   "metadata": {},
   "outputs": [
    {
     "data": {
      "text/plain": [
       "Astrocyte               0\n",
       "Choroid                 0\n",
       "EN-PFC1          0.984617\n",
       "EN-PFC2                 0\n",
       "EN-PFC3                 0\n",
       "EN-V1-1        0.00155198\n",
       "EN-V1-2                 0\n",
       "EN-V1-3                 0\n",
       "Endothelial             0\n",
       "Glyc                    0\n",
       "IN-CTX-CGE1             0\n",
       "IN-CTX-CGE2             0\n",
       "IN-CTX-MGE1             0\n",
       "IN-CTX-MGE2             0\n",
       "IN-STR                  0\n",
       "IPC-div1                0\n",
       "IPC-div2                0\n",
       "IPC-nEN1                0\n",
       "IPC-nEN2                0\n",
       "IPC-nEN3                0\n",
       "MGE-IPC1                0\n",
       "MGE-IPC2                0\n",
       "MGE-IPC3                0\n",
       "MGE-RG1                 0\n",
       "MGE-RG2                 0\n",
       "MGE-div                 0\n",
       "Microglia      0.00409459\n",
       "Mural                   0\n",
       "OPC                     0\n",
       "RG-div1                 0\n",
       "RG-div2                 0\n",
       "RG-early                0\n",
       "U1                      0\n",
       "U2                      0\n",
       "U3                      0\n",
       "U4                      0\n",
       "nEN-early1              0\n",
       "nEN-early2              0\n",
       "nEN-late                0\n",
       "nIN1                    0\n",
       "nIN2                    0\n",
       "nIN3                    0\n",
       "nIN4           0.00119098\n",
       "nIN5           0.00374393\n",
       "oRG                     0\n",
       "tRG                     0\n",
       "vRG                     0\n",
       "u                     NaN\n",
       "Name: InCGE, dtype: object"
      ]
     },
     "execution_count": 76,
     "metadata": {},
     "output_type": "execute_result"
    }
   ],
   "source": [
    "confusion.loc['InCGE',]"
   ]
  }
 ],
 "metadata": {
  "kernelspec": {
   "display_name": "Python 3 (ipykernel)",
   "language": "python",
   "name": "python3"
  },
  "language_info": {
   "codemirror_mode": {
    "name": "ipython",
    "version": 3
   },
   "file_extension": ".py",
   "mimetype": "text/x-python",
   "name": "python",
   "nbconvert_exporter": "python",
   "pygments_lexer": "ipython3",
   "version": "3.9.13"
  }
 },
 "nbformat": 4,
 "nbformat_minor": 2
}
